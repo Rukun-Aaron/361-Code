{
 "cells": [
  {
   "cell_type": "code",
   "execution_count": 3,
   "id": "cc2cef00",
   "metadata": {},
   "outputs": [],
   "source": [
    "import pandas as pd\n",
    "import numpy as np"
   ]
  },
  {
   "cell_type": "code",
   "execution_count": 31,
   "id": "2fc4ba30",
   "metadata": {},
   "outputs": [
    {
     "name": "stdout",
     "output_type": "stream",
     "text": [
      "<class 'pandas.core.frame.DataFrame'>\n",
      "RangeIndex: 8124 entries, 0 to 8123\n",
      "Data columns (total 23 columns):\n",
      " #   Column  Non-Null Count  Dtype \n",
      "---  ------  --------------  ----- \n",
      " 0   0       8124 non-null   object\n",
      " 1   1       8124 non-null   object\n",
      " 2   2       8124 non-null   object\n",
      " 3   3       8124 non-null   object\n",
      " 4   4       8124 non-null   object\n",
      " 5   5       8124 non-null   object\n",
      " 6   6       8124 non-null   object\n",
      " 7   7       8124 non-null   object\n",
      " 8   8       8124 non-null   object\n",
      " 9   9       8124 non-null   object\n",
      " 10  10      8124 non-null   object\n",
      " 11  11      8124 non-null   object\n",
      " 12  12      8124 non-null   object\n",
      " 13  13      8124 non-null   object\n",
      " 14  14      8124 non-null   object\n",
      " 15  15      8124 non-null   object\n",
      " 16  16      8124 non-null   object\n",
      " 17  17      8124 non-null   object\n",
      " 18  18      8124 non-null   object\n",
      " 19  19      8124 non-null   object\n",
      " 20  20      8124 non-null   object\n",
      " 21  21      8124 non-null   object\n",
      " 22  22      8124 non-null   object\n",
      "dtypes: object(23)\n",
      "memory usage: 1.4+ MB\n"
     ]
    }
   ],
   "source": [
    " df = pd.read_csv(\"agaricus-lepiota.data\", header = None)\n",
    "df.info()"
   ]
  },
  {
   "cell_type": "code",
   "execution_count": 33,
   "id": "1a2cf4bc",
   "metadata": {},
   "outputs": [],
   "source": [
    "df.columns = ['class', 'cap_shape', 'cap_surface', 'cap_color', 'bruises', 'odor', \n",
    "               'gill_attachment', 'gill_spacing', 'gill_size', 'gill_color', \n",
    "               'stalk_shape', 'stalk_root', 'stalk_surface_above_ring', 'stalk_surface_below_ring', 'stalk_color_above_ring', 'stalk_color_below_ring', \n",
    "               'veil_type', 'veil_color', 'ring_number', 'ring_type', 'spore_print_color', 'population', 'habitat']\n",
    "\n",
    "stalk-root"
   ]
  },
  {
   "cell_type": "code",
   "execution_count": 34,
   "id": "22ca66e4",
   "metadata": {},
   "outputs": [
    {
     "name": "stdout",
     "output_type": "stream",
     "text": [
      "<class 'pandas.core.frame.DataFrame'>\n",
      "Int64Index: 5644 entries, 0 to 8114\n",
      "Data columns (total 23 columns):\n",
      " #   Column                    Non-Null Count  Dtype \n",
      "---  ------                    --------------  ----- \n",
      " 0   class                     5644 non-null   object\n",
      " 1   cap_shape                 5644 non-null   object\n",
      " 2   cap_surface               5644 non-null   object\n",
      " 3   cap_color                 5644 non-null   object\n",
      " 4   bruises                   5644 non-null   object\n",
      " 5   odor                      5644 non-null   object\n",
      " 6   gill_attachment           5644 non-null   object\n",
      " 7   gill_spacing              5644 non-null   object\n",
      " 8   gill_size                 5644 non-null   object\n",
      " 9   gill_color                5644 non-null   object\n",
      " 10  stalk_shape               5644 non-null   object\n",
      " 11  stalk_root                5644 non-null   object\n",
      " 12  stalk_surface_above_ring  5644 non-null   object\n",
      " 13  stalk_surface_below_ring  5644 non-null   object\n",
      " 14  stalk_color_above_ring    5644 non-null   object\n",
      " 15  stalk_color_below_ring    5644 non-null   object\n",
      " 16  veil_type                 5644 non-null   object\n",
      " 17  veil_color                5644 non-null   object\n",
      " 18  ring_number               5644 non-null   object\n",
      " 19  ring_type                 5644 non-null   object\n",
      " 20  spore_print_color         5644 non-null   object\n",
      " 21  population                5644 non-null   object\n",
      " 22  habitat                   5644 non-null   object\n",
      "dtypes: object(23)\n",
      "memory usage: 1.0+ MB\n"
     ]
    }
   ],
   "source": [
    "df = df.drop(df[df.stalk_root  == \"?\"].index)\n"
   ]
  },
  {
   "cell_type": "code",
   "execution_count": null,
   "id": "d8be21be",
   "metadata": {},
   "outputs": [],
   "source": []
  }
 ],
 "metadata": {
  "kernelspec": {
   "display_name": "Python 3 (ipykernel)",
   "language": "python",
   "name": "python3"
  },
  "language_info": {
   "codemirror_mode": {
    "name": "ipython",
    "version": 3
   },
   "file_extension": ".py",
   "mimetype": "text/x-python",
   "name": "python",
   "nbconvert_exporter": "python",
   "pygments_lexer": "ipython3",
   "version": "3.10.5"
  }
 },
 "nbformat": 4,
 "nbformat_minor": 5
}
