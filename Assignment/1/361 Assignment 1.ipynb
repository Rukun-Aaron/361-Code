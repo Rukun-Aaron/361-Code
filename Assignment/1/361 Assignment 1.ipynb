{
 "cells": [
  {
   "cell_type": "code",
   "execution_count": 3,
   "id": "cc2cef00",
   "metadata": {},
   "outputs": [],
   "source": [
    "import pandas as pd\n",
    "import numpy as np"
   ]
  },
  {
   "cell_type": "code",
   "execution_count": 4,
   "id": "2fc4ba30",
   "metadata": {},
   "outputs": [
    {
     "name": "stdout",
     "output_type": "stream",
     "text": [
      "<class 'pandas.core.frame.DataFrame'>\n",
      "RangeIndex: 8124 entries, 0 to 8123\n",
      "Data columns (total 23 columns):\n",
      " #   Column  Non-Null Count  Dtype \n",
      "---  ------  --------------  ----- \n",
      " 0   0       8124 non-null   object\n",
      " 1   1       8124 non-null   object\n",
      " 2   2       8124 non-null   object\n",
      " 3   3       8124 non-null   object\n",
      " 4   4       8124 non-null   object\n",
      " 5   5       8124 non-null   object\n",
      " 6   6       8124 non-null   object\n",
      " 7   7       8124 non-null   object\n",
      " 8   8       8124 non-null   object\n",
      " 9   9       8124 non-null   object\n",
      " 10  10      8124 non-null   object\n",
      " 11  11      8124 non-null   object\n",
      " 12  12      8124 non-null   object\n",
      " 13  13      8124 non-null   object\n",
      " 14  14      8124 non-null   object\n",
      " 15  15      8124 non-null   object\n",
      " 16  16      8124 non-null   object\n",
      " 17  17      8124 non-null   object\n",
      " 18  18      8124 non-null   object\n",
      " 19  19      8124 non-null   object\n",
      " 20  20      8124 non-null   object\n",
      " 21  21      8124 non-null   object\n",
      " 22  22      8124 non-null   object\n",
      "dtypes: object(23)\n",
      "memory usage: 1.4+ MB\n"
     ]
    }
   ],
   "source": [
    "df = pd.read_csv(\"agaricus-lepiota.data\", header = None)\n",
    "df.info()"
   ]
  },
  {
   "cell_type": "code",
   "execution_count": 13,
   "id": "d078d54e",
   "metadata": {},
   "outputs": [],
   "source": [
    "from sklearn.model_selection import train_test_split\n",
    "\n",
    "df.columns = ['class', 'cap_shape', 'cap_surface', 'cap_color', 'bruises', 'odor', \n",
    "               'gill_attachment', 'gill_spacing', 'gill_size', 'gill_color', \n",
    "               'stalk_shape', 'stalk_root', 'stalk_surface_above_ring', 'stalk_surface_below_ring', 'stalk_color_above_ring', 'stalk_color_below_ring', \n",
    "               'veil_type', 'veil_color', 'ring_number', 'ring_type', 'spore_print_color', 'population', 'habitat']\n",
    "df = df.drop(df[df.stalk_root  == \"?\"].index)\n",
    "X = df.drop('class', axis=1)\n",
    "y = df['class']\n",
    "\n",
    "\n",
    "train_X, test_X, train_y, test_y = train_test_split(X, y, test_size=0.2, random_state=42)\n",
    "\n"
   ]
  },
  {
   "attachments": {},
   "cell_type": "markdown",
   "id": "76096008",
   "metadata": {},
   "source": [
    "Node Class"
   ]
  },
  {
   "cell_type": "code",
   "execution_count": 7,
   "id": "d4b080c9",
   "metadata": {},
   "outputs": [],
   "source": [
    "class Node():\n",
    "        def __init__(self, feature_index = None, threshold=None, left = None, right = None, info_gain = None, value = None):\n",
    "                self.feature_index = feature_index\n",
    "                self.threshold = threshold\n",
    "                self.left = left\n",
    "                self.right = right\n",
    "                self.info_gain = info_gain\n",
    "\n",
    "\n",
    "                self.value = value\n",
    "        \n"
   ]
  },
  {
   "attachments": {},
   "cell_type": "markdown",
   "id": "66474015",
   "metadata": {},
   "source": [
    "Tree Class"
   ]
  },
  {
   "cell_type": "code",
   "execution_count": 15,
   "id": "7b1512de",
   "metadata": {},
   "outputs": [],
   "source": [
    "class DecisionTreeClassifier():\n",
    "    def __init__(self, min_samples_split = 2,max_depth = 2):\n",
    "        self.root = None\n",
    "\n",
    "        self.max_depth = max_depth\n",
    "        self.min_samples_split = min_samples_split\n",
    "\n",
    "    def build_tree(self, train_X, train_y, current_depth = 0):\n",
    "        num_samples, num_features = train_X.shape()\n",
    "\n",
    "        if num_samples >= self.min_samples_split and current_depth <= self.max_depth:\n",
    "\n",
    "            best_split = self.get_best_split(train_X, train_y, num_samples, num_features)\n",
    "\n",
    "            if best_split[\"info-gain\"]>0:\n",
    "                left_subtree = self.build_tree(best_split[\"X_left\"], best_split[\"y_left\"], current_depth + 1)\n",
    "                right_subtree = self.build_tree(best_split[\"X_right\"], best_split[\"y_right\"], current_depth + 1)\n",
    "\n",
    "                return Node(best_split[\"feature_index\"], best_split[\"threshold\"], left_subtree, right_subtree, best_split[\"info_gain\"])\n",
    "\n",
    "        leaf_value = self.calculate_leaf_value(y)\n",
    "        return Node(value = leaf_value)\n",
    "        \n",
    "    def best_split(self, train_X, train_y, num_samples, num_features):\n",
    "\n",
    "        best_split = {}\n",
    "        max_info_gain = -float(\"inf\")\n",
    "\n",
    "        for feature_index in range(num_features):\n",
    "            feature_values = train_X[:, feature_index]\n",
    "            possible_thresholds = np.unique(feature_values)\n",
    "            for threshold in possible_thresholds:\n",
    "                X_left, X_right, y_left, y_right = self.split(train_X, train_y, feature_index, threshold)\n",
    "\n",
    "\n"
   ]
  }
 ],
 "metadata": {
  "kernelspec": {
   "display_name": "Python 3 (ipykernel)",
   "language": "python",
   "name": "python3"
  },
  "language_info": {
   "codemirror_mode": {
    "name": "ipython",
    "version": 3
   },
   "file_extension": ".py",
   "mimetype": "text/x-python",
   "name": "python",
   "nbconvert_exporter": "python",
   "pygments_lexer": "ipython3",
   "version": "3.9.13"
  }
 },
 "nbformat": 4,
 "nbformat_minor": 5
}
