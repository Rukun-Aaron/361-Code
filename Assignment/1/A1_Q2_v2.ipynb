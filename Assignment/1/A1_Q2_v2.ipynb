{
 "cells": [
  {
   "cell_type": "code",
   "execution_count": 1,
   "metadata": {
    "id": "V-yfkOaealz0"
   },
   "outputs": [],
   "source": [
    "import pandas as pd\n",
    "import numpy as np\n",
    "import math\n",
    "data = df = pd.read_csv('agaricus-lepiota.data',header=None)"
   ]
  },
  {
   "cell_type": "code",
   "execution_count": 2,
   "metadata": {
    "id": "AmZHA-dDammL"
   },
   "outputs": [],
   "source": [
    "data.columns =['class', 'cap_shape', 'cap_surface', 'cap_color', 'bruises', 'odor', \n",
    "               'gill_attachment', 'gill_spacing', 'gill_size', 'gill_color', \n",
    "               'stalk_shape', 'stalk_root', 'stalk_surface_above_ring', 'stalk_surface_below_ring', 'stalk_color_above_ring', 'stalk_color_below_ring', \n",
    "               'veil_type', 'veil_color', 'ring_number', 'ring_type', 'spore_print_color', 'population', 'habitat']"
   ]
  },
  {
   "cell_type": "code",
   "execution_count": 3,
   "metadata": {
    "id": "sGDS6CZUp3lh"
   },
   "outputs": [],
   "source": [
    "data['stalk_root'] = data['stalk_root'].replace([\"?\"],np.nan)\n",
    "new_data=data.copy()\n",
    "new_data=new_data.dropna()"
   ]
  },
  {
   "cell_type": "code",
   "execution_count": 4,
   "metadata": {
    "id": "sZS-pdsKo57q"
   },
   "outputs": [],
   "source": [
    "def train_test_set(X):\n",
    "  new_X=X.sample(frac=1)\n",
    "  separate=int(len(new_X.index)*0.8)\n",
    "  train=new_X.iloc[:separate]\n",
    "  test=new_X.iloc[separate:]\n",
    "  return[train,test]"
   ]
  },
  {
   "cell_type": "code",
   "execution_count": null,
   "metadata": {},
   "outputs": [],
   "source": []
  },
  {
   "cell_type": "code",
   "execution_count": 5,
   "metadata": {
    "id": "1lWTb71Uuwsl"
   },
   "outputs": [],
   "source": [
    "[train_data,test_data]=train_test_set(new_data)"
   ]
  },
  {
   "cell_type": "code",
   "execution_count": 6,
   "metadata": {
    "id": "5sGIWwI9vDba"
   },
   "outputs": [],
   "source": [
    "train_y = train_data['class']\n",
    "train_X = train_data.drop('class', axis = 1)"
   ]
  },
  {
   "cell_type": "code",
   "execution_count": 7,
   "metadata": {
    "id": "Mz9e3v-FwA7C"
   },
   "outputs": [],
   "source": [
    "test_y = test_data['class']\n",
    "test_X = test_data.drop('class', axis = 1)"
   ]
  },
  {
   "cell_type": "code",
   "execution_count": 8,
   "metadata": {
    "id": "BIUwXtNAp_5N"
   },
   "outputs": [
    {
     "data": {
      "text/html": [
       "<div>\n",
       "<style scoped>\n",
       "    .dataframe tbody tr th:only-of-type {\n",
       "        vertical-align: middle;\n",
       "    }\n",
       "\n",
       "    .dataframe tbody tr th {\n",
       "        vertical-align: top;\n",
       "    }\n",
       "\n",
       "    .dataframe thead th {\n",
       "        text-align: right;\n",
       "    }\n",
       "</style>\n",
       "<table border=\"1\" class=\"dataframe\">\n",
       "  <thead>\n",
       "    <tr style=\"text-align: right;\">\n",
       "      <th></th>\n",
       "      <th>class</th>\n",
       "      <th>cap_shape</th>\n",
       "      <th>cap_surface</th>\n",
       "      <th>cap_color</th>\n",
       "      <th>bruises</th>\n",
       "      <th>odor</th>\n",
       "      <th>gill_attachment</th>\n",
       "      <th>gill_spacing</th>\n",
       "      <th>gill_size</th>\n",
       "      <th>gill_color</th>\n",
       "      <th>...</th>\n",
       "      <th>stalk_surface_below_ring</th>\n",
       "      <th>stalk_color_above_ring</th>\n",
       "      <th>stalk_color_below_ring</th>\n",
       "      <th>veil_type</th>\n",
       "      <th>veil_color</th>\n",
       "      <th>ring_number</th>\n",
       "      <th>ring_type</th>\n",
       "      <th>spore_print_color</th>\n",
       "      <th>population</th>\n",
       "      <th>habitat</th>\n",
       "    </tr>\n",
       "  </thead>\n",
       "  <tbody>\n",
       "    <tr>\n",
       "      <th>4597</th>\n",
       "      <td>p</td>\n",
       "      <td>f</td>\n",
       "      <td>f</td>\n",
       "      <td>y</td>\n",
       "      <td>f</td>\n",
       "      <td>f</td>\n",
       "      <td>f</td>\n",
       "      <td>c</td>\n",
       "      <td>b</td>\n",
       "      <td>g</td>\n",
       "      <td>...</td>\n",
       "      <td>k</td>\n",
       "      <td>b</td>\n",
       "      <td>b</td>\n",
       "      <td>p</td>\n",
       "      <td>w</td>\n",
       "      <td>o</td>\n",
       "      <td>l</td>\n",
       "      <td>h</td>\n",
       "      <td>y</td>\n",
       "      <td>d</td>\n",
       "    </tr>\n",
       "    <tr>\n",
       "      <th>2209</th>\n",
       "      <td>e</td>\n",
       "      <td>x</td>\n",
       "      <td>y</td>\n",
       "      <td>g</td>\n",
       "      <td>t</td>\n",
       "      <td>n</td>\n",
       "      <td>f</td>\n",
       "      <td>c</td>\n",
       "      <td>b</td>\n",
       "      <td>w</td>\n",
       "      <td>...</td>\n",
       "      <td>s</td>\n",
       "      <td>p</td>\n",
       "      <td>p</td>\n",
       "      <td>p</td>\n",
       "      <td>w</td>\n",
       "      <td>o</td>\n",
       "      <td>p</td>\n",
       "      <td>n</td>\n",
       "      <td>v</td>\n",
       "      <td>d</td>\n",
       "    </tr>\n",
       "    <tr>\n",
       "      <th>4475</th>\n",
       "      <td>p</td>\n",
       "      <td>x</td>\n",
       "      <td>y</td>\n",
       "      <td>y</td>\n",
       "      <td>f</td>\n",
       "      <td>f</td>\n",
       "      <td>f</td>\n",
       "      <td>c</td>\n",
       "      <td>b</td>\n",
       "      <td>h</td>\n",
       "      <td>...</td>\n",
       "      <td>k</td>\n",
       "      <td>n</td>\n",
       "      <td>b</td>\n",
       "      <td>p</td>\n",
       "      <td>w</td>\n",
       "      <td>o</td>\n",
       "      <td>l</td>\n",
       "      <td>h</td>\n",
       "      <td>y</td>\n",
       "      <td>g</td>\n",
       "    </tr>\n",
       "    <tr>\n",
       "      <th>4359</th>\n",
       "      <td>p</td>\n",
       "      <td>f</td>\n",
       "      <td>f</td>\n",
       "      <td>y</td>\n",
       "      <td>f</td>\n",
       "      <td>f</td>\n",
       "      <td>f</td>\n",
       "      <td>c</td>\n",
       "      <td>b</td>\n",
       "      <td>p</td>\n",
       "      <td>...</td>\n",
       "      <td>k</td>\n",
       "      <td>n</td>\n",
       "      <td>p</td>\n",
       "      <td>p</td>\n",
       "      <td>w</td>\n",
       "      <td>o</td>\n",
       "      <td>l</td>\n",
       "      <td>h</td>\n",
       "      <td>y</td>\n",
       "      <td>d</td>\n",
       "    </tr>\n",
       "    <tr>\n",
       "      <th>4091</th>\n",
       "      <td>p</td>\n",
       "      <td>f</td>\n",
       "      <td>f</td>\n",
       "      <td>y</td>\n",
       "      <td>f</td>\n",
       "      <td>f</td>\n",
       "      <td>f</td>\n",
       "      <td>c</td>\n",
       "      <td>b</td>\n",
       "      <td>h</td>\n",
       "      <td>...</td>\n",
       "      <td>k</td>\n",
       "      <td>b</td>\n",
       "      <td>b</td>\n",
       "      <td>p</td>\n",
       "      <td>w</td>\n",
       "      <td>o</td>\n",
       "      <td>l</td>\n",
       "      <td>h</td>\n",
       "      <td>v</td>\n",
       "      <td>d</td>\n",
       "    </tr>\n",
       "    <tr>\n",
       "      <th>...</th>\n",
       "      <td>...</td>\n",
       "      <td>...</td>\n",
       "      <td>...</td>\n",
       "      <td>...</td>\n",
       "      <td>...</td>\n",
       "      <td>...</td>\n",
       "      <td>...</td>\n",
       "      <td>...</td>\n",
       "      <td>...</td>\n",
       "      <td>...</td>\n",
       "      <td>...</td>\n",
       "      <td>...</td>\n",
       "      <td>...</td>\n",
       "      <td>...</td>\n",
       "      <td>...</td>\n",
       "      <td>...</td>\n",
       "      <td>...</td>\n",
       "      <td>...</td>\n",
       "      <td>...</td>\n",
       "      <td>...</td>\n",
       "      <td>...</td>\n",
       "    </tr>\n",
       "    <tr>\n",
       "      <th>3755</th>\n",
       "      <td>p</td>\n",
       "      <td>x</td>\n",
       "      <td>f</td>\n",
       "      <td>g</td>\n",
       "      <td>f</td>\n",
       "      <td>f</td>\n",
       "      <td>f</td>\n",
       "      <td>c</td>\n",
       "      <td>b</td>\n",
       "      <td>h</td>\n",
       "      <td>...</td>\n",
       "      <td>k</td>\n",
       "      <td>p</td>\n",
       "      <td>b</td>\n",
       "      <td>p</td>\n",
       "      <td>w</td>\n",
       "      <td>o</td>\n",
       "      <td>l</td>\n",
       "      <td>h</td>\n",
       "      <td>y</td>\n",
       "      <td>g</td>\n",
       "    </tr>\n",
       "    <tr>\n",
       "      <th>3296</th>\n",
       "      <td>e</td>\n",
       "      <td>f</td>\n",
       "      <td>f</td>\n",
       "      <td>g</td>\n",
       "      <td>t</td>\n",
       "      <td>n</td>\n",
       "      <td>f</td>\n",
       "      <td>c</td>\n",
       "      <td>b</td>\n",
       "      <td>w</td>\n",
       "      <td>...</td>\n",
       "      <td>s</td>\n",
       "      <td>g</td>\n",
       "      <td>p</td>\n",
       "      <td>p</td>\n",
       "      <td>w</td>\n",
       "      <td>o</td>\n",
       "      <td>p</td>\n",
       "      <td>k</td>\n",
       "      <td>y</td>\n",
       "      <td>d</td>\n",
       "    </tr>\n",
       "    <tr>\n",
       "      <th>5575</th>\n",
       "      <td>p</td>\n",
       "      <td>x</td>\n",
       "      <td>s</td>\n",
       "      <td>b</td>\n",
       "      <td>t</td>\n",
       "      <td>f</td>\n",
       "      <td>f</td>\n",
       "      <td>c</td>\n",
       "      <td>b</td>\n",
       "      <td>h</td>\n",
       "      <td>...</td>\n",
       "      <td>s</td>\n",
       "      <td>w</td>\n",
       "      <td>w</td>\n",
       "      <td>p</td>\n",
       "      <td>w</td>\n",
       "      <td>o</td>\n",
       "      <td>p</td>\n",
       "      <td>h</td>\n",
       "      <td>v</td>\n",
       "      <td>g</td>\n",
       "    </tr>\n",
       "    <tr>\n",
       "      <th>4998</th>\n",
       "      <td>p</td>\n",
       "      <td>x</td>\n",
       "      <td>y</td>\n",
       "      <td>g</td>\n",
       "      <td>f</td>\n",
       "      <td>f</td>\n",
       "      <td>f</td>\n",
       "      <td>c</td>\n",
       "      <td>b</td>\n",
       "      <td>g</td>\n",
       "      <td>...</td>\n",
       "      <td>k</td>\n",
       "      <td>p</td>\n",
       "      <td>b</td>\n",
       "      <td>p</td>\n",
       "      <td>w</td>\n",
       "      <td>o</td>\n",
       "      <td>l</td>\n",
       "      <td>h</td>\n",
       "      <td>v</td>\n",
       "      <td>d</td>\n",
       "    </tr>\n",
       "    <tr>\n",
       "      <th>4026</th>\n",
       "      <td>p</td>\n",
       "      <td>x</td>\n",
       "      <td>s</td>\n",
       "      <td>g</td>\n",
       "      <td>f</td>\n",
       "      <td>c</td>\n",
       "      <td>f</td>\n",
       "      <td>w</td>\n",
       "      <td>n</td>\n",
       "      <td>u</td>\n",
       "      <td>...</td>\n",
       "      <td>s</td>\n",
       "      <td>w</td>\n",
       "      <td>w</td>\n",
       "      <td>p</td>\n",
       "      <td>w</td>\n",
       "      <td>o</td>\n",
       "      <td>p</td>\n",
       "      <td>n</td>\n",
       "      <td>v</td>\n",
       "      <td>d</td>\n",
       "    </tr>\n",
       "  </tbody>\n",
       "</table>\n",
       "<p>4515 rows × 23 columns</p>\n",
       "</div>"
      ],
      "text/plain": [
       "     class cap_shape cap_surface cap_color bruises odor gill_attachment  \\\n",
       "4597     p         f           f         y       f    f               f   \n",
       "2209     e         x           y         g       t    n               f   \n",
       "4475     p         x           y         y       f    f               f   \n",
       "4359     p         f           f         y       f    f               f   \n",
       "4091     p         f           f         y       f    f               f   \n",
       "...    ...       ...         ...       ...     ...  ...             ...   \n",
       "3755     p         x           f         g       f    f               f   \n",
       "3296     e         f           f         g       t    n               f   \n",
       "5575     p         x           s         b       t    f               f   \n",
       "4998     p         x           y         g       f    f               f   \n",
       "4026     p         x           s         g       f    c               f   \n",
       "\n",
       "     gill_spacing gill_size gill_color  ... stalk_surface_below_ring  \\\n",
       "4597            c         b          g  ...                        k   \n",
       "2209            c         b          w  ...                        s   \n",
       "4475            c         b          h  ...                        k   \n",
       "4359            c         b          p  ...                        k   \n",
       "4091            c         b          h  ...                        k   \n",
       "...           ...       ...        ...  ...                      ...   \n",
       "3755            c         b          h  ...                        k   \n",
       "3296            c         b          w  ...                        s   \n",
       "5575            c         b          h  ...                        s   \n",
       "4998            c         b          g  ...                        k   \n",
       "4026            w         n          u  ...                        s   \n",
       "\n",
       "     stalk_color_above_ring stalk_color_below_ring veil_type veil_color  \\\n",
       "4597                      b                      b         p          w   \n",
       "2209                      p                      p         p          w   \n",
       "4475                      n                      b         p          w   \n",
       "4359                      n                      p         p          w   \n",
       "4091                      b                      b         p          w   \n",
       "...                     ...                    ...       ...        ...   \n",
       "3755                      p                      b         p          w   \n",
       "3296                      g                      p         p          w   \n",
       "5575                      w                      w         p          w   \n",
       "4998                      p                      b         p          w   \n",
       "4026                      w                      w         p          w   \n",
       "\n",
       "     ring_number ring_type spore_print_color population habitat  \n",
       "4597           o         l                 h          y       d  \n",
       "2209           o         p                 n          v       d  \n",
       "4475           o         l                 h          y       g  \n",
       "4359           o         l                 h          y       d  \n",
       "4091           o         l                 h          v       d  \n",
       "...          ...       ...               ...        ...     ...  \n",
       "3755           o         l                 h          y       g  \n",
       "3296           o         p                 k          y       d  \n",
       "5575           o         p                 h          v       g  \n",
       "4998           o         l                 h          v       d  \n",
       "4026           o         p                 n          v       d  \n",
       "\n",
       "[4515 rows x 23 columns]"
      ]
     },
     "execution_count": 8,
     "metadata": {},
     "output_type": "execute_result"
    }
   ],
   "source": [
    "data\n",
    "new_data\n",
    "train_data"
   ]
  },
  {
   "cell_type": "code",
   "execution_count": 9,
   "metadata": {
    "id": "LmhE7UlPqPyV"
   },
   "outputs": [],
   "source": [
    "class Node():\n",
    "    def __init__(self, value):\n",
    "      self.value = value\n",
    "      self.depth = 0\n",
    "      self.children = []\n",
    "      self.parent='None'\n",
    "\n",
    "    def add_child(self, item):\n",
    "      self.children.append(item)\n",
    "      item.depth=self.depth+1\n",
    "      item.parent=self"
   ]
  },
  {
   "cell_type": "code",
   "execution_count": 10,
   "metadata": {
    "id": "fadiNDVyqaYy"
   },
   "outputs": [],
   "source": [
    "def print_tree(node):\n",
    "    print(\"     |\" *node.depth+\"===\"+str(node.value))\n",
    "    if node.children!=[]:\n",
    "      for child in node.children:\n",
    "          print_tree(child)"
   ]
  },
  {
   "cell_type": "code",
   "execution_count": 11,
   "metadata": {
    "id": "tU6rnDF_qQkr"
   },
   "outputs": [],
   "source": [
    "def get_entropy(y):\n",
    "    unique, counts = np.unique(y, return_counts = True) #unique is an array of unique values in y, counts is an array contains times that those values appear\n",
    "    probabilities = counts / len(y) #return an array of probabilities with each element corresponds to elements in count array\n",
    "    entropy = sum(-probabilities * np.log2(probabilities))\n",
    "    return entropy"
   ]
  },
  {
   "cell_type": "code",
   "execution_count": 12,
   "metadata": {
    "id": "3rYRhpYyst97"
   },
   "outputs": [],
   "source": [
    "def get_best_split(X, y):\n",
    "    max_info_gain = 0.01\n",
    "    prev_entropy = get_entropy(y)\n",
    "    best_column = ''\n",
    "    for colname in X.columns:\n",
    "        column = X[colname]\n",
    "        sum_entropy = 0\n",
    "        for category in column.unique():\n",
    "            is_in_category = X[colname] == category\n",
    "            y_after_split = y[is_in_category]\n",
    "            sum_entropy += get_entropy(y_after_split) * len(y_after_split) / len(X)\n",
    "        info_gain = prev_entropy - sum_entropy\n",
    "        if info_gain > max_info_gain:\n",
    "            max_info_gain = info_gain\n",
    "            best_column = colname\n",
    "    return best_column "
   ]
  },
  {
   "cell_type": "code",
   "execution_count": 13,
   "metadata": {
    "id": "9_HpZT0ydGrt"
   },
   "outputs": [],
   "source": [
    "def split_subtree(X, y, stopping_depth, parent_node):\n",
    "    best_split_attribute = get_best_split(X, y)\n",
    "    if parent_node.depth >= stopping_depth:\n",
    "      majority=y.mode()\n",
    "      child_node=Node(\">\"+str(majority)[5:-13])\n",
    "      parent_node.add_child(child_node)\n",
    "    else:\n",
    "      for category in X[best_split_attribute].unique():\n",
    "        to_include = X[best_split_attribute] == category\n",
    "        new_X = X[to_include].drop(best_split_attribute, axis = 1)\n",
    "        new_y = y[to_include]\n",
    "        child_node=Node(category)\n",
    "        parent_node.add_child(child_node)\n",
    "        current=get_best_split(new_X, new_y)\n",
    "        if current=='':\n",
    "          the_class=new_y[to_include].mode()\n",
    "          current_node=Node(str(the_class)[5:-14])\n",
    "          child_node.add_child(current_node)\n",
    "        else:\n",
    "          current_node=Node(current)\n",
    "          child_node.add_child(current_node)\n",
    "          split_subtree(new_X, new_y, stopping_depth, current_node)"
   ]
  },
  {
   "cell_type": "code",
   "execution_count": 14,
   "metadata": {},
   "outputs": [],
   "source": [
    "def root_node(X, y, z):\n",
    "  best_split_attribute = get_best_split(X, y)\n",
    "  root=Node(best_split_attribute)\n",
    "  split_subtree(X,y,z,root)\n",
    "  return root"
   ]
  },
  {
   "cell_type": "code",
   "execution_count": 15,
   "metadata": {
    "colab": {
     "base_uri": "https://localhost:8080/"
    },
    "id": "LsYOmXTtgeNN",
    "outputId": "8dfa9c8f-405a-4aac-e83c-69fc16435545"
   },
   "outputs": [
    {
     "name": "stdout",
     "output_type": "stream",
     "text": [
      "===odor\n",
      "     |===f\n",
      "     |     |===p\n",
      "Name: class,\n",
      "     |===n\n",
      "     |     |===spore_print_color\n",
      "     |     |     |===n\n",
      "     |     |     |     |===e\n",
      "Name: class,\n",
      "     |     |     |===k\n",
      "     |     |     |     |===e\n",
      "Name: class,\n",
      "     |     |     |===r\n",
      "     |     |     |     |===p\n",
      "Name: class,\n",
      "     |     |     |===w\n",
      "     |     |     |     |===cap_color\n",
      "     |     |     |     |     |===n\n",
      "     |     |     |     |     |     |===e\n",
      "Name: class,\n",
      "     |     |     |     |     |===c\n",
      "     |     |     |     |     |     |===e\n",
      "Name: class,\n",
      "     |     |     |     |     |===w\n",
      "     |     |     |     |     |     |===p\n",
      "Name: class,\n",
      "     |     |     |     |     |===g\n",
      "     |     |     |     |     |     |===e\n",
      "Name: class,\n",
      "     |     |     |     |     |===y\n",
      "     |     |     |     |     |     |===p\n",
      "Name: class,\n",
      "     |     |     |     |     |===p\n",
      "     |     |     |     |     |     |===e\n",
      "Name: class,\n",
      "     |===a\n",
      "     |     |===e\n",
      "Name: class,\n",
      "     |===l\n",
      "     |     |===e\n",
      "Name: class,\n",
      "     |===c\n",
      "     |     |===p\n",
      "Name: class,\n",
      "     |===p\n",
      "     |     |===p\n",
      "Name: class,\n",
      "     |===m\n",
      "     |     |===p\n",
      "Name: class,\n"
     ]
    }
   ],
   "source": [
    "tree=root_node(train_X, train_y, 6)\n",
    "print_tree(tree) #this is the decision tree"
   ]
  },
  {
   "cell_type": "code",
   "execution_count": 16,
   "metadata": {
    "id": "1SFZ6dnqwMVR"
   },
   "outputs": [],
   "source": [
    "# test_data\n",
    "# test_X\n",
    "# test_y"
   ]
  },
  {
   "cell_type": "code",
   "execution_count": 17,
   "metadata": {
    "id": "ojaR7_6SsuNk"
   },
   "outputs": [],
   "source": [
    "## d: pd.Series recording the predicted classification\n",
    "d=test_y.copy()\n",
    "d=d.str.replace('p','u')\n",
    "d=d.str.replace('e','u')\n",
    "\n",
    "\n",
    "## test_X_copy: pd.dataframe of the testing data without classification column\n",
    "test_X_copy=test_X.copy()\n",
    "\n",
    "\n",
    "\n",
    "def test_procedure(data,d, tree):\n",
    "  attribute=tree.value\n",
    "  for category in tree.children:\n",
    "    for label in category.children:\n",
    "      # print(label.value)\n",
    "      if label.value=='p' or label.value=='e':\n",
    "        indices=data[data[tree.value] == category.value].index\n",
    "        # print(indices)\n",
    "        d.update(pd.Series([label.value]*len(indices), index=indices))\n",
    "        data=data.drop(indices)\n",
    "        return [d,data]\n",
    "      else:\n",
    "        [d,data]=test_procedure(data, d, label)"
   ]
  },
  {
   "cell_type": "code",
   "execution_count": 18,
   "metadata": {
    "id": "1h6jS41ZDkZd"
   },
   "outputs": [
    {
     "ename": "TypeError",
     "evalue": "cannot unpack non-iterable NoneType object",
     "output_type": "error",
     "traceback": [
      "\u001b[1;31m---------------------------------------------------------------------------\u001b[0m",
      "\u001b[1;31mTypeError\u001b[0m                                 Traceback (most recent call last)",
      "\u001b[1;32m~\\AppData\\Local\\Temp\\ipykernel_16264\\1269403575.py\u001b[0m in \u001b[0;36m<module>\u001b[1;34m\u001b[0m\n\u001b[1;32m----> 1\u001b[1;33m \u001b[0mtest_procedure\u001b[0m\u001b[1;33m(\u001b[0m\u001b[0mtest_X_copy\u001b[0m\u001b[1;33m,\u001b[0m\u001b[0md\u001b[0m\u001b[1;33m,\u001b[0m \u001b[0mtree\u001b[0m\u001b[1;33m)\u001b[0m\u001b[1;33m\u001b[0m\u001b[1;33m\u001b[0m\u001b[0m\n\u001b[0m",
      "\u001b[1;32m~\\AppData\\Local\\Temp\\ipykernel_16264\\2896145925.py\u001b[0m in \u001b[0;36mtest_procedure\u001b[1;34m(data, d, tree)\u001b[0m\n\u001b[0;32m     22\u001b[0m         \u001b[1;32mreturn\u001b[0m \u001b[1;33m[\u001b[0m\u001b[0md\u001b[0m\u001b[1;33m,\u001b[0m\u001b[0mdata\u001b[0m\u001b[1;33m]\u001b[0m\u001b[1;33m\u001b[0m\u001b[1;33m\u001b[0m\u001b[0m\n\u001b[0;32m     23\u001b[0m       \u001b[1;32melse\u001b[0m\u001b[1;33m:\u001b[0m\u001b[1;33m\u001b[0m\u001b[1;33m\u001b[0m\u001b[0m\n\u001b[1;32m---> 24\u001b[1;33m         \u001b[1;33m[\u001b[0m\u001b[0md\u001b[0m\u001b[1;33m,\u001b[0m\u001b[0mdata\u001b[0m\u001b[1;33m]\u001b[0m\u001b[1;33m=\u001b[0m\u001b[0mtest_procedure\u001b[0m\u001b[1;33m(\u001b[0m\u001b[0mdata\u001b[0m\u001b[1;33m,\u001b[0m \u001b[0md\u001b[0m\u001b[1;33m,\u001b[0m \u001b[0mlabel\u001b[0m\u001b[1;33m)\u001b[0m\u001b[1;33m\u001b[0m\u001b[1;33m\u001b[0m\u001b[0m\n\u001b[0m",
      "\u001b[1;31mTypeError\u001b[0m: cannot unpack non-iterable NoneType object"
     ]
    }
   ],
   "source": [
    "test_procedure(test_X_copy,d, tree)"
   ]
  },
  {
   "cell_type": "code",
   "execution_count": null,
   "metadata": {
    "id": "8Q9OpYYcYkEb"
   },
   "outputs": [],
   "source": [
    "d,test_X_copy=test_procedure(test_X_copy,d, tree)"
   ]
  },
  {
   "cell_type": "code",
   "execution_count": null,
   "metadata": {
    "colab": {
     "base_uri": "https://localhost:8080/"
    },
    "id": "YZgTPkdDdiZD",
    "outputId": "a233e877-73d3-4720-ad26-caffbec300c8"
   },
   "outputs": [
    {
     "data": {
      "text/plain": [
       "3797    u\n",
       "5911    u\n",
       "3617    u\n",
       "3704    u\n",
       "2159    u\n",
       "       ..\n",
       "273     u\n",
       "908     u\n",
       "5065    u\n",
       "1040    u\n",
       "401     u\n",
       "Name: class, Length: 1129, dtype: object"
      ]
     },
     "execution_count": 21,
     "metadata": {},
     "output_type": "execute_result"
    }
   ],
   "source": [
    "d"
   ]
  },
  {
   "cell_type": "code",
   "execution_count": null,
   "metadata": {
    "colab": {
     "base_uri": "https://localhost:8080/"
    },
    "id": "zrq9qTXTDSeS",
    "outputId": "2fa040c7-7799-4650-f8da-9fadc3beffad"
   },
   "outputs": [
    {
     "data": {
      "text/plain": [
       "3797    e\n",
       "5911    p\n",
       "3617    e\n",
       "3704    p\n",
       "2159    e\n",
       "       ..\n",
       "273     e\n",
       "908     p\n",
       "5065    p\n",
       "1040    e\n",
       "401     e\n",
       "Name: class, Length: 1129, dtype: object"
      ]
     },
     "execution_count": 26,
     "metadata": {},
     "output_type": "execute_result"
    }
   ],
   "source": [
    "test_y\n"
   ]
  }
 ],
 "metadata": {
  "colab": {
   "collapsed_sections": [],
   "name": "A1_Q2.ipynb",
   "provenance": []
  },
  "kernelspec": {
   "display_name": "Python 3",
   "language": "python",
   "name": "python3"
  },
  "language_info": {
   "codemirror_mode": {
    "name": "ipython",
    "version": 3
   },
   "file_extension": ".py",
   "mimetype": "text/x-python",
   "name": "python",
   "nbconvert_exporter": "python",
   "pygments_lexer": "ipython3",
   "version": "3.9.13"
  }
 },
 "nbformat": 4,
 "nbformat_minor": 1
}
