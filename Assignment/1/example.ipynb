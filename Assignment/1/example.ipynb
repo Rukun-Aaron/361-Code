{
 "cells": [
  {
   "cell_type": "code",
   "execution_count": 23,
   "metadata": {},
   "outputs": [
    {
     "name": "stdout",
     "output_type": "stream",
     "text": [
      "(array(['a', 'c', 'f', 'l', 'm', 'n', 'p', 's', 'y'], dtype=object), array([1156,  153, 1021, 1147,    2, 3838,  596,   95,  116], dtype=int64))\n"
     ]
    },
    {
     "data": {
      "text/plain": [
       "(array(['a', 'c', 'f', 'l', 'n', 'p', 's', 'y'], dtype=object),\n",
       " array([1071,  113,  579, 1061, 3111,  526,   12,   27], dtype=int64))"
      ]
     },
     "execution_count": 23,
     "metadata": {},
     "output_type": "execute_result"
    }
   ],
   "source": [
    "import pandas as pd\n",
    "import numpy as np\n",
    "import random\n",
    "import math\n",
    "from pprint import pprint\n",
    "\n",
    "# import dataset\n",
    "data = pd.read_csv(\"agaricus-lepiota.data\", header = None)\n",
    "array = np.array(data)\n",
    "array = np.array([line for line in array])\n",
    "random.shuffle(array)\n",
    "dataset = pd.DataFrame(array)\n",
    "dataset.columns = ['class', 'cap-shape', 'cap-surface', 'cap-color', \n",
    "        'bruises', 'odor', 'gill-attachment', 'gill-spacing', \n",
    "        'gill-size', 'gill-color', 'stalk-shape', 'stalk-root', \n",
    "        'stalk-surface-above-ring', 'stalk-surface-below-ring', \n",
    "        'stalk-color-above-ring', 'stalk-color-below-ring', 'veil-type', \n",
    "        'veil-color', 'ring-number', 'ring-type', 'spore-print-color', \n",
    "        'population', 'habitat']\n",
    "# spliting into training dataset and testing dataset, with ratio 0.8\n",
    "split_index = math.ceil(len(dataset) * 0.8)\n",
    "training_dataset = dataset.iloc[:split_index].reset_index(drop=True)#We drop the index respectively relabel the index\n",
    "testing_dataset = dataset.iloc[split_index:].reset_index(drop=True)\n",
    "\n",
    "print(np.unique(dataset['odor'], return_counts=True))\n",
    "\n",
    "np.unique(training_dataset['odor'], return_counts=True)"
   ]
  },
  {
   "cell_type": "code",
   "execution_count": 25,
   "metadata": {},
   "outputs": [
    {
     "name": "stdout",
     "output_type": "stream",
     "text": [
      "e\n",
      "e\n",
      "e\n",
      "e\n",
      "{'odor': {'a': 'e',\n",
      "          'c': 'p',\n",
      "          'f': 'p',\n",
      "          'l': 'e',\n",
      "          'n': {'spore-print-color': {'h': 'e',\n",
      "                                      'k': 'e',\n",
      "                                      'n': 'e',\n",
      "                                      'r': 'p',\n",
      "                                      'w': {'habitat': {'d': 'p',\n",
      "                                                        'l': {'cap-color': {'c': 'e',\n",
      "                                                                            'n': 'e',\n",
      "                                                                            'w': 'p'}},\n",
      "                                                        'w': 'e'}}}},\n",
      "          'p': 'p',\n",
      "          's': 'p',\n",
      "          'y': 'p'}}\n"
     ]
    }
   ],
   "source": [
    "def entropy(target_col):\n",
    "    elements,counts = np.unique(target_col,return_counts = True)\n",
    "    entropy = np.sum([(-counts[i]/np.sum(counts))*np.log2(counts[i]/np.sum(counts)) for i in range(len(elements))])\n",
    "    return entropy\n",
    "\n",
    "def InfoGain(data,split_attribute_name,target_name=\"class\"):   \n",
    "    #Calculate the entropy of the total dataset\n",
    "    total_entropy = entropy(data[target_name])\n",
    "\n",
    "    #Calculate the values and the corresponding counts for the split attribute \n",
    "    vals,counts= np.unique(data[split_attribute_name],return_counts=True)\n",
    "    \n",
    "    #Calculate the weighted entropy\n",
    "    Weighted_Entropy = np.sum([(counts[i]/np.sum(counts))*entropy(data.where(data[split_attribute_name]==vals[i]).dropna()[target_name]) for i in range(len(vals))])\n",
    "    \n",
    "    #Calculate the information gain\n",
    "    Information_Gain = total_entropy - Weighted_Entropy\n",
    "    return Information_Gain\n",
    "\n",
    "\n",
    "def ID3(data, original_data,features,target_col=\"class\",parent_node_value = None, depth=-1,max_depth=3):\n",
    "    #Define the stopping criteria --> If one of this is satisfied, we want to return a leaf node#\n",
    "    \n",
    "    #If all target_values have the same value, return this value\n",
    "    if len(np.unique(data[target_col])) <= 1 or depth == max_depth:\n",
    "        return np.unique(data[target_col])[0]\n",
    "    \n",
    "    #If the dataset is empty, return the mode target feature value in the original dataset\n",
    "    elif len(data)==0:\n",
    "        return np.unique(originaldata[target_col])[np.argmax(np.unique(originaldata[target_col],return_counts=True)[1])]\n",
    "    \n",
    "    #If the feature space is empty, return the mode target feature value of the direct parent node --> Note that\n",
    "    #the direct parent node is that node which has called the current run of the ID3 algorithm and hence\n",
    "    #the mode target feature value is stored in the parent_node_class variable.\n",
    "    \n",
    "    elif len(features) ==0:\n",
    "        return parent_node_class\n",
    "     \n",
    "     #If none of the above holds true, grow the tree!\n",
    "    \n",
    "    else:\n",
    "        #Set the default value for this node --> The mode target feature value of the current node\n",
    "        parent_node_class = np.unique(data[target_col])[np.argmax(np.unique(data[target_col],return_counts=True)[1])]\n",
    "        print(parent_node_class)\n",
    "        #Select the feature which best splits the dataset\n",
    "        item_values = [InfoGain(data,feature,target_col) for feature in features] #Return the information gain values for the features in the dataset\n",
    "        best_feature_index = np.argmax(item_values)\n",
    "        best_feature = features[best_feature_index]\n",
    "        # print(best_feature)\n",
    "        #Create the tree structure. The root gets the name of the feature (best_feature) with the maximum information\n",
    "        #gain in the first run\n",
    "        tree = {best_feature:{}}\n",
    "        # print(1,best_feature)\n",
    "        #Remove the feature with the best inforamtion gain from the feature space\n",
    "        features = [i for i in features if i != best_feature]\n",
    "        \n",
    "        #Grow a branch under the root node for each possible value of the root node feature\n",
    "        depth += 1\n",
    "        for value in np.unique(data[best_feature]):\n",
    "            value = value\n",
    "            # print(value)\n",
    "            #Split the dataset along the value of the feature with the largest information gain and therwith create sub_datasets\n",
    "            sub_data = data.where(data[best_feature] == value).dropna()\n",
    "            \n",
    "            \n",
    "            #Add the sub tree, grown from the sub_dataset to the tree under the root node\n",
    "            tree[best_feature][value] = ID3(sub_data,dataset,features,target_col,parent_node_class, depth, max_depth)\n",
    "            \n",
    "        return(tree)  \n",
    "\n",
    "# generating the decision tree, setting the stopping depth \n",
    "tree = ID3(training_dataset,training_dataset,training_dataset.columns[1:], depth = -1, max_depth=3)\n",
    "entropy()\n",
    "pprint(tree)"
   ]
  },
  {
   "cell_type": "code",
   "execution_count": 16,
   "metadata": {},
   "outputs": [
    {
     "name": "stdout",
     "output_type": "stream",
     "text": [
      "The prediction accuracy is:  92.42610837438424 %\n"
     ]
    }
   ],
   "source": [
    "def predict(query,tree,default = 1):\n",
    "    for key in list(query.keys()):\n",
    "        if key in list(tree.keys()):\n",
    "            try:\n",
    "                result = tree[key][query[key]] \n",
    "            except:\n",
    "                return default\n",
    "            result = tree[key][query[key]]\n",
    "            if isinstance(result,dict):\n",
    "                return predict(query,result)\n",
    "\n",
    "            else:\n",
    "                return result\n",
    "            \n",
    "            \n",
    "def test(data,tree):\n",
    "    #Create new query instances by simply removing the target feature column from the original dataset and \n",
    "    #convert it to a dictionary\n",
    "    queries = data.iloc[:,:-1].to_dict(orient = \"records\")\n",
    "    \n",
    "    #Create a empty DataFrame in whose columns the prediction of the tree are stored\n",
    "    predicted = pd.DataFrame(columns=[\"predicted\"]) \n",
    "    \n",
    "    #Calculate the prediction accuracy\n",
    "    for i in range(len(data)):\n",
    "        predicted.loc[i,\"predicted\"] = predict(queries[i],tree,1.0) \n",
    "    print('The prediction accuracy is: ',(np.sum(predicted[\"predicted\"] == data[\"class\"])/len(data))*100,'%')\n",
    "    \n",
    "test(testing_dataset,tree)"
   ]
  }
 ],
 "metadata": {
  "kernelspec": {
   "display_name": "base",
   "language": "python",
   "name": "python3"
  },
  "language_info": {
   "codemirror_mode": {
    "name": "ipython",
    "version": 3
   },
   "file_extension": ".py",
   "mimetype": "text/x-python",
   "name": "python",
   "nbconvert_exporter": "python",
   "pygments_lexer": "ipython3",
   "version": "3.10.5"
  },
  "orig_nbformat": 4
 },
 "nbformat": 4,
 "nbformat_minor": 2
}
