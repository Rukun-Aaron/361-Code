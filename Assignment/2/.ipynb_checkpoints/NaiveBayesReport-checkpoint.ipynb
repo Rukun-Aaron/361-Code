{
 "cells": [
  {
   "cell_type": "markdown",
   "metadata": {},
   "source": [
    "# Assignment 2 Naive Bayes"
   ]
  },
  {
   "cell_type": "markdown",
   "metadata": {},
   "source": [
    "## Report Section"
   ]
  },
  {
   "cell_type": "markdown",
   "metadata": {},
   "source": [
    "#### Q1: Explain and motivate the chosen representation & data preprocessing\n",
    "\n",
    "<p>Bag of words is a simple method of representing the frequency of words in textual inputs. It keeps a record of all the unique words and their respective frequencies. This data is pivotal to our approach in document classification.  Despite its simplicity, Bag of words enables our model to capture important words and their associated frequencies that is useful for classification. I represented the word frequency by using a nested dictionary where the outer key was the word(\"virus\") and the value was a dictionary. The nested dictionary had its keys as the 4 different classes and the values was the frequency of that word (defined by the outer key) in that specific class.EG:\n",
    "{word: {\"A\": 1, \"B\": 2, \"E\": 3, \"V\": 4}, ...} \n",
    "\n",
    "For my data preprocessing, I used minimal preprocessing in the simple algorithm. I split the abstract feature of an entry into its words and added them a set of unique words. I only data I excluded spaces. </p>\n",
    "\n",
    "#### Q2: Explain the idea behind the model improvements and their implementation (including the implementation of the standard Naive Bayes)\n",
    "\n",
    "<p>Initially my Standard Naive Bayes algorithm was used the standard P(Y|X) = P(X|Y) * P(Y) formula, then I to increase computation speed by using the log of the probabilities and it fixed any underflow errors occuring due to some floating point values being very small. The new format was log(P(Y|X)) = log(P(X|Y)) + log(P(Y)). \n",
    "\n",
    "Furthermore, I added Laplace smoothing to my algorithm to account for words that were not in the training set. I added a smoothing factor of 1 to the numerator and the number of unique words in the training set to the denominator. This was done to avoid a divide by zero error.\n",
    "Implementing this in log formate I got the formula:\n",
    "prob_class += (conditional_probability_dict[word][class_name] + 1).ln() - (Decimal(total_words_in_class_name +  len(vocab))).ln()\n",
    "\n",
    "I added stemming to my algorithm to reduce the dimentionality of my vocabualry (number of unique words). This reduces the computational cost of my algorithm and also helps my algorithm more easly recognize patterns in word use as all words are in their base form. I used the nltk library to stem my words.\n",
    "\n",
    "I also added a feature to my algorithm that allowed me to remove stop words from my training set. I used the nltk library to get a list of stop words. I stemmed the stop words and prevented them from being added to my vocabulary. This reduced the number of unique words in my vocabulary and also reduced the computational cost of my algorithm.\n",
    "\n",
    "This gave me an accuracy on kaggle of 96.66% \n",
    "\n",
    "Finally I added oversampling to my preprocessing step to account for the class imbalance in the training set. I used the imblearn library to oversample my data. I used the RandomOverSampler to oversample my data. This gave me an accuracy on kaggle of 97.33%</p>\n",
    "\n",
    "\n",
    "#### Q3: Explain the evaluation procedure (e.g., cross-validation or training/validation split)\n",
    "<p>\n",
    "I used validation splits to estimate our test error. I took a 70/30 split of my data and trained the model on 70% and tested it on the remaining 30%.  I was able to estimate my test error via this method.</p>\n",
    "\n",
    "#### Q4: include and explain the training/validation results for the standard and improved Naive Bayes model. You can summarize results using tables (or plots), but all results have to be explained descriptively as well.\n",
    "\n",
    "<p>My standard Model had a validation accuracy of 81.58%. I had done no preprocessing on the data.\n",
    "My Improved  model had a validation accuracy of 97.17%.. This is because I added preprocessing steps to my data. I added stemming, stop word removal and oversampling to my data. Additionally I also used logs in my formula to avoid underflow errors and used laplace smoothing to account for words not in the training set.\n",
    "The validation accuracies are graphed below.</p>\n",
    "\n",
    "\n",
    "    "
   ]
  },
  {
   "cell_type": "code",
   "execution_count": 11,
   "metadata": {},
   "outputs": [
    {
     "data": {
      "image/png": "[encoded data removed]",
      "text/plain": [
       "<Figure size 640x480 with 1 Axes>"
      ]
     },
     "metadata": {},
     "output_type": "display_data"
    }
   ],
   "source": [
    "import matplotlib.pyplot as plt\n",
    "\n",
    "standard_validation_acc = 0.8158\n",
    "improved_validation_acc = 0.9717\n",
    "labels = ['Standard Naive Bayes', 'Improved Naive Bayes']\n",
    "values = [standard_validation_acc, improved_validation_acc]\n",
    "plt.bar(labels, values)\n",
    "for i in range(len(values)):\n",
    "    plt.text(i, values[i], str(values[i]), ha='center', va='bottom')\n",
    "plt.title('Validation Accuracy of Two Models')\n",
    "plt.xlabel('Models')\n",
    "plt.ylabel('Validation Accuracy')\n",
    "\n",
    "plt.show()"
   ]
  },
  {
   "cell_type": "markdown",
   "metadata": {},
   "source": [
    "### Simple Naive Bayes implementation\n"
   ]
  },
  {
   "cell_type": "markdown",
   "metadata": {},
   "source": [
    "#### Necessary libraries:"
   ]
  },
  {
   "cell_type": "code",
   "execution_count": 12,
   "metadata": {},
   "outputs": [],
   "source": [
    "import pandas as pd\n",
    "import numpy as np\n",
    "import csv\n",
    "from decimal import Decimal"
   ]
  },
  {
   "cell_type": "markdown",
   "metadata": {},
   "source": [
    "#### Helper Methods for Naive Bayes implementation:"
   ]
  },
  {
   "cell_type": "code",
   "execution_count": 13,
   "metadata": {},
   "outputs": [],
   "source": [
    "# Gets the set of all words in the dataframe\n",
    "def get_vocab(df):\n",
    "\n",
    "    vocab = {word for para in df['abstract'] for word in para.split() }\n",
    "    return vocab\n",
    "\n",
    "# Returns the prior probabilities of all the target classes A, B, E and V\n",
    "def get_prior_probability(df):\n",
    "    prior_probability = df['target'].value_counts(normalize=True).to_dict()\n",
    "    for key, value in prior_probability.items():\n",
    "        prior_probability[key] = Decimal(str(value))\n",
    "    return prior_probability \n",
    "\n",
    "# Returns a dictionary containing all the words \n",
    "def get_conditional_probability(df):\n",
    "    conditional_probability = dict()\n",
    "    \n",
    "    for row in df.itertuples(index = 0): \n",
    "     \n",
    "        line = row.abstract\n",
    "        target = row.target\n",
    "        words = [word for word in line.split()]\n",
    "\n",
    "        for word in words :\n",
    "            \n",
    "            if word in conditional_probability.keys():\n",
    "                if target in conditional_probability[word].keys():\n",
    "                    conditional_probability[word][target] += 1\n",
    "                else:\n",
    "                    conditional_probability[word][target] = 1\n",
    "            else:\n",
    "                conditional_probability[word] = {\"B\": Decimal(0), \"E\":Decimal(0), \"A\":Decimal(0), \"V\":Decimal(0)}\n",
    "                conditional_probability[word][target] += 1\n",
    "    return conditional_probability\n",
    "\n",
    "## Convert conditional probabilities dictionary to a dataframe\n",
    "def get_conditional_probability_df(conditional_probability):\n",
    "\n",
    "    data = []\n",
    "    for word, targets in conditional_probability.items():\n",
    "        \n",
    "        row = {'word': word}\n",
    "        \n",
    "        for i, (target, count) in enumerate(targets.items()):\n",
    "            row [target] = count\n",
    "        data.append(row)\n",
    "    word_orrurance_table = pd.DataFrame(data)\n",
    "    word_orrurance_table.fillna(0, inplace=True)\n",
    "    return word_orrurance_table"
   ]
  },
  {
   "cell_type": "markdown",
   "metadata": {},
   "source": [
    "#### Simple Naive Bayes Algorithm"
   ]
  },
  {
   "cell_type": "code",
   "execution_count": 14,
   "metadata": {},
   "outputs": [],
   "source": [
    "# Training the model\n",
    "def train(df):\n",
    "    vocab = get_vocab(df)\n",
    "    prior_probability = get_prior_probability(df)\n",
    "    conditional_probability_dict = get_conditional_probability(df)\n",
    "    conditional_probability_df = get_conditional_probability_df(conditional_probability_dict)\n",
    "    return vocab, prior_probability, conditional_probability_dict,conditional_probability_df\n",
    "# Testing the model\n",
    "def Naive_Bayes(vocab, prior_probability, conditional_probability_dict,conditional_probability_df,testing):\n",
    "    predictions = []\n",
    "    row_nm = 0\n",
    "    for row in testing.itertuples(index = 0):\n",
    "        row_nm += 1\n",
    "        line = row.abstract\n",
    "        prediction = predict(vocab,prior_probability,conditional_probability_dict,conditional_probability_df,line)\n",
    "        predictions.append(prediction)\n",
    "    return predictions\n",
    "\n",
    "# Predicting the target class of a given line\n",
    "def predict(vocab,prior_probability,conditional_probability_dict,conditional_probability_df,line):\n",
    "    words = line.split()\n",
    "    \n",
    "    prob_B = prior_probability['B']\n",
    "    prob_E = prior_probability['E']\n",
    "    prob_A = prior_probability['A']\n",
    "    prob_V = prior_probability['V']\n",
    "\n",
    "    for word in words:\n",
    "        if word in vocab:\n",
    "            prob_B *= conditional_probability_dict[word]['B'] \n",
    "            prob_A *= conditional_probability_dict[word]['A'] \n",
    "            prob_V *= conditional_probability_dict[word]['V'] \n",
    "            prob_E *= conditional_probability_dict[word]['E'] \n",
    "    \n",
    "    max_prob = max(prob_B, prob_A, prob_V, prob_E)\n",
    "    if max_prob == prob_E:\n",
    "        return 'E'\n",
    "    elif max_prob == prob_B:\n",
    "        return 'B'\n",
    "    elif max_prob == prob_A:\n",
    "        return 'A'\n",
    "    elif max_prob == prob_V:\n",
    "        return 'V'\n",
    "    else:\n",
    "        return 'E'\n",
    "\n"
   ]
  },
  {
   "cell_type": "markdown",
   "metadata": {},
   "source": [
    "#### Training the data and validating to get test error approximation"
   ]
  },
  {
   "cell_type": "code",
   "execution_count": 23,
   "metadata": {},
   "outputs": [
    {
     "name": "stdout",
     "output_type": "stream",
     "text": [
      "Validation acc: 0.8158\n"
     ]
    }
   ],
   "source": [
    "from sklearn.model_selection import train_test_split\n",
    "\n",
    "# Reading the data\n",
    "df = pd.read_csv(\"trg.csv\")\n",
    "df = df.rename({'class':'target'},axis=1)\n",
    "\n",
    "# Split the data into training and testing\n",
    "training, testing = train_test_split(df, test_size=0.3, random_state=42)\n",
    "\n",
    "vocab, prior_probability, conditional_probability_dict,conditional_probability_df = train(training)\n",
    "prediction_row = Naive_Bayes(vocab, prior_probability, conditional_probability_dict,conditional_probability_df, testing)\n",
    "\n",
    "# Calculating  the validation accuracy\n",
    "validation_acc = (testing['target'] == prediction_row).mean()\n",
    "print(f\"Validation acc: {validation_acc:.4f}\")"
   ]
  },
  {
   "cell_type": "markdown",
   "metadata": {},
   "source": [
    "##### The standard Naive Bayes impletation yields a validation accuracy of 81.58."
   ]
  },
  {
   "cell_type": "markdown",
   "metadata": {},
   "source": [
    "### Improved Naive Bayes Algorithm\n",
    "\n"
   ]
  },
  {
   "cell_type": "markdown",
   "metadata": {},
   "source": [
    "#### Necessary Libraries "
   ]
  },
  {
   "cell_type": "code",
   "execution_count": 16,
   "metadata": {},
   "outputs": [],
   "source": [
    "import pandas as pd\n",
    "import numpy as np\n",
    "import csv\n",
    "from decimal import Decimal\n",
    "from nltk.corpus import stopwords\n",
    "from nltk.stem.porter import PorterStemmer\n",
    "\n"
   ]
  },
  {
   "cell_type": "markdown",
   "metadata": {},
   "source": [
    "#### Defining stop words and applying stemming to the stop words (Data Preprocessing )"
   ]
  },
  {
   "cell_type": "code",
   "execution_count": 17,
   "metadata": {},
   "outputs": [],
   "source": [
    "# Data Preprocessing\n",
    "# Defining the stop words and stemming them\n",
    "stopWords = set(stopwords.words('english'))\n",
    "porter = PorterStemmer()\n",
    "stemmed_stop_words = [porter.stem(word) for word in stopWords]\n",
    "stopWords.update(stemmed_stop_words)\n"
   ]
  },
  {
   "cell_type": "markdown",
   "metadata": {},
   "source": [
    "#### Helper Methods for Improved Naive Bayes implementation:"
   ]
  },
  {
   "cell_type": "code",
   "execution_count": 18,
   "metadata": {},
   "outputs": [],
   "source": [
    "# Getting filtered set of words from the training dataframe\n",
    "def Improved_get_vocab(df):\n",
    "  \n",
    "    vocab = {word for para in df['abstract'] for word in para.split() if word not in stopWords}\n",
    "    porter = PorterStemmer()\n",
    "\n",
    "    vocab = {porter.stem(word) for para in df['abstract'] for word in para.split() if word not in stopWords}\n",
    "    return vocab\n",
    "# Getting the prior probabilities of all the target classes A, B, E and V given the original dataframe\n",
    "def Improved_get_prior_probability(df):\n",
    "    prior_probability = df['target'].value_counts(normalize=True).to_dict()\n",
    "    \n",
    "    for key, value in prior_probability.items():\n",
    "        prior_probability[key] = Decimal(str(value))\n",
    "    return prior_probability \n",
    "# Getting the conditional probabilities of all the words in vocab \n",
    "def Improved_get_conditional_probability(df,vocab):\n",
    "    conditional_probability = dict()\n",
    "    for row in df.itertuples(index = 0): \n",
    "        line = row.abstract\n",
    "        target = row.target\n",
    "        porter = PorterStemmer()\n",
    "        words = [porter.stem(word) for word in line.split() if word not in stopWords]\n",
    "\n",
    "        for word in words :\n",
    "                        \n",
    "            if word in conditional_probability.keys():\n",
    "                if target in conditional_probability[word].keys():\n",
    "                    conditional_probability[word][target] += 1\n",
    "                else:\n",
    "                    conditional_probability[word][target] = 1\n",
    "            else:\n",
    "                conditional_probability[word] = {\"B\": Decimal(0), \"E\":Decimal(0), \"A\":Decimal(0), \"V\":Decimal(0)}\n",
    "                conditional_probability[word][target] += 1\n",
    "    return conditional_probability\n",
    "# Converint the conditional probabilities dictionary to a dataframe\n",
    "def Improved_get_conditional_probability_df(conditional_probability):\n",
    "\n",
    "    data = []\n",
    "    for word, targets in conditional_probability.items():\n",
    "        \n",
    "        row = {'word': word}\n",
    "        \n",
    "        for i, (target, count) in enumerate(targets.items()):\n",
    "            row [target] = count\n",
    "        data.append(row)\n",
    "    word_orrurance_table = pd.DataFrame(data)\n",
    "    word_orrurance_table.fillna(0, inplace=True)\n",
    "    return word_orrurance_table\n",
    "\n"
   ]
  },
  {
   "cell_type": "markdown",
   "metadata": {},
   "source": [
    "#### Improved Navie Bayes Algorithm\n"
   ]
  },
  {
   "cell_type": "markdown",
   "metadata": {},
   "source": [
    "#### The improvments are of a result of Laplace Smoothing, the use of stop words and stemming\n"
   ]
  },
  {
   "cell_type": "code",
   "execution_count": 19,
   "metadata": {},
   "outputs": [],
   "source": [
    "\n",
    "\n",
    "# Training the model\n",
    "def Improved_train(df, original_df):\n",
    "    \n",
    "    vocab = Improved_get_vocab(df)\n",
    "    prior_probability = Improved_get_prior_probability(original_df)\n",
    "    conditional_probability_dict = Improved_get_conditional_probability(df,vocab)\n",
    "    conditional_probability_df = Improved_get_conditional_probability_df(conditional_probability_dict)\n",
    "    return vocab, prior_probability, conditional_probability_dict,conditional_probability_df\n",
    "\n",
    "# Testing the model\n",
    "def Improved_Naive_Bayes(vocab, prior_probability, conditional_probability_dict,conditional_probability_df,testing):\n",
    "    print(\"Predicting....\") \n",
    "    predictions = []\n",
    "    row_nm = 0\n",
    "    for row in testing.itertuples(index = 0):\n",
    "        row_nm += 1\n",
    "        line = row.abstract\n",
    "        prediction = Improved_predict(vocab,prior_probability,conditional_probability_dict,conditional_probability_df,line)\n",
    "        predictions.append(prediction)\n",
    "    return predictions\n",
    "# Predicting the target class of a given line\n",
    "def Improved_predict(vocab,prior_probability,conditional_probability_dict,conditional_probability_df,line):\n",
    "    words = line.split()\n",
    "    porter = PorterStemmer()\n",
    "    words = [ porter.stem(word) for word in words if word not in stopWords]\n",
    "    prob_B = prior_probability['B'].ln()\n",
    "    prob_E = prior_probability['E'].ln()\n",
    "    prob_A = prior_probability['A'].ln()\n",
    "    prob_V = prior_probability['V'].ln()\n",
    "\n",
    "    total_B = conditional_probability_df['B'].sum()\n",
    "    total_E = conditional_probability_df['E'].sum()\n",
    "    total_A = conditional_probability_df['A'].sum()\n",
    "    total_V = conditional_probability_df['V'].sum()\n",
    "    for word in words:\n",
    "        if word in vocab:\n",
    "            prob_B += (conditional_probability_dict[word]['B'] + 1).ln() - (Decimal(total_B +  len(vocab))).ln()\n",
    "            prob_A += (conditional_probability_dict[word]['A'] + 1).ln() - (Decimal(total_A + len(vocab))).ln()\n",
    "            prob_V += (conditional_probability_dict[word]['V'] + 1).ln() - (Decimal(total_V + len(vocab))).ln()\n",
    "            prob_E += (conditional_probability_dict[word]['E'] + 1).ln() - (Decimal(total_E + len(vocab))).ln()\n",
    "   \n",
    "    \n",
    "    max_prob = max(prob_B, prob_A, prob_V, prob_E)\n",
    "    if max_prob == prob_E:\n",
    "        return 'E'\n",
    "    elif max_prob == prob_B:\n",
    "        return 'B'\n",
    "    elif max_prob == prob_A:\n",
    "        return 'A'\n",
    "    elif max_prob == prob_V:\n",
    "        return 'V'\n",
    "    else:\n",
    "        return 'E'\n",
    "        \n",
    "   "
   ]
  },
  {
   "cell_type": "markdown",
   "metadata": {},
   "source": [
    "#### Training the oversampled data and validating to get test error approximation (Data Preprocessing)"
   ]
  },
  {
   "cell_type": "code",
   "execution_count": 22,
   "metadata": {},
   "outputs": [
    {
     "name": "stdout",
     "output_type": "stream",
     "text": [
      "Predicting....\n",
      "Validation acc: 0.9717\n"
     ]
    }
   ],
   "source": [
    "from sklearn.model_selection import train_test_split\n",
    "from imblearn.over_sampling import RandomOverSampler   \n",
    "\n",
    "# Reading the data\n",
    "df = pd.read_csv(\"trg.csv\")\n",
    "df = df.rename({'class':'target'},axis=1)\n",
    "\n",
    "# Splitting the data into training and testing\n",
    "training, testing = train_test_split(df, test_size=0.3, random_state=42)\n",
    "\n",
    "# Oversampling the training data\n",
    "X = training.drop('target', axis=1)\n",
    "y = training['target']\n",
    "oversampler = RandomOverSampler(random_state=42)\n",
    "X_resampled, y_resampled = oversampler.fit_resample(X, y)\n",
    "traning_resampled = pd.concat([X_resampled, y_resampled], axis=1)\n",
    "df_resampled = traning_resampled.sample(frac=1, random_state=42)\n",
    "\n",
    "# Training the model\n",
    "vocab, prior_probability, conditional_probability_dict,conditional_probability_df = Improved_train(traning_resampled,training)\n",
    "\n",
    "# Testing the model\n",
    "prediction_row = Improved_Naive_Bayes(vocab, prior_probability, conditional_probability_dict,conditional_probability_df, testing)\n",
    "\n",
    "# Calculating  the accuracy\n",
    "validation_acc = (testing['target'] == prediction_row).mean()\n",
    "print(f\"Validation acc: {validation_acc:.4f}\")"
   ]
  },
  {
   "cell_type": "markdown",
   "metadata": {},
   "source": [
    "##### The Improved Naive Bayes impletation yields a validation accuracy of 97.71%"
   ]
  },
  {
   "cell_type": "markdown",
   "metadata": {},
   "source": [
    "#### Training the data on the oversampled full data set and generating output file"
   ]
  },
  {
   "cell_type": "code",
   "execution_count": 21,
   "metadata": {},
   "outputs": [
    {
     "name": "stdout",
     "output_type": "stream",
     "text": [
      "Predicting....\n",
      "Done\n"
     ]
    }
   ],
   "source": [
    "# Reading the data\n",
    "df = pd.read_csv(\"trg.csv\")\n",
    "df = df.rename({'class':'target'},axis=1)\n",
    "test_df = pd.read_csv(\"tst.csv\")\n",
    "X = df.drop('target', axis=1)\n",
    "y = df['target']\n",
    "\n",
    "# Oversampling the training data\n",
    "oversampler = RandomOverSampler(random_state=42)\n",
    "X_resampled, y_resampled = oversampler.fit_resample(X, y)\n",
    "df_resampled = pd.concat([X_resampled, y_resampled], axis=1)\n",
    "df_resampled = df_resampled.sample(frac=1, random_state=42)\n",
    "\n",
    "# Training the model\n",
    "vocab, prior_probability, conditional_probability_dict,conditional_probability_df = Improved_train(df_resampled, df)\n",
    "\n",
    "# Getting predictions\n",
    "prediction_row = Improved_Naive_Bayes(vocab, prior_probability, conditional_probability_dict,conditional_probability_df, test_df)\n",
    "\n",
    "# Writing the predictions to a csv file\n",
    "with open(\"tst.csv\",\"rt\") as source:\n",
    "    rdr = csv.reader(source)\n",
    "    c = -1\n",
    "    with open(\"raar518.csv\",\"wt\", newline='') as result:\n",
    "        wtr = csv.writer( result )\n",
    "        for r in rdr:\n",
    "            if (c==-1): wtr.writerow( (r[0], \"class\") ) #add csv header\n",
    "            else: wtr.writerow( (r[0], prediction_row[c]) )\n",
    "            c+=1\n",
    "\n",
    "print(\"Done\")"
   ]
  }
 ],
 "metadata": {
  "kernelspec": {
   "display_name": "Python 3 (ipykernel)",
   "language": "python",
   "name": "python3"
  },
  "language_info": {
   "codemirror_mode": {
    "name": "ipython",
    "version": 3
   },
   "file_extension": ".py",
   "mimetype": "text/x-python",
   "name": "python",
   "nbconvert_exporter": "python",
   "pygments_lexer": "ipython3",
   "version": "3.10.5"
  }
 },
 "nbformat": 4,
 "nbformat_minor": 2
}
