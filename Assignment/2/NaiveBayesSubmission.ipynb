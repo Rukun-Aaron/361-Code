{
 "cells": [
  {
   "attachments": {},
   "cell_type": "markdown",
   "metadata": {},
   "source": [
    "# Assignment 2 Naive Bayes"
   ]
  },
  {
   "attachments": {},
   "cell_type": "markdown",
   "metadata": {},
   "source": [
    "## Report Section"
   ]
  },
  {
   "attachments": {},
   "cell_type": "markdown",
   "metadata": {},
   "source": [
    "Q1: Explain and motivate the chosen representation & data preprocessing\n",
    "\n",
    "       Bag of words is a simple method of representing the frequency of words in textual inputs. It keeps a record of all the unique words and their respective frequencies. This data is pivotal to our approach in document classification.  Despite its simplicity, Bag of words enables our model to capture important words and their associated frequencies that is useful for classification. \n",
    "\n",
    "       As for data preprocessing, I used stemming to reduce words to the base form and remove any \n",
    "       <!--I chose to tackle to the problem of document classification based on textual content of scientific papers by using bag of words. I is a simple representation of the frequecy of words in a given class.  -->\n",
    " \n",
    "    "
   ]
  },
  {
   "attachments": {},
   "cell_type": "markdown",
   "metadata": {},
   "source": [
    "### Simple Naive Bayes implementation\n"
   ]
  },
  {
   "attachments": {},
   "cell_type": "markdown",
   "metadata": {},
   "source": [
    "##### Necessary libraries:"
   ]
  },
  {
   "cell_type": "code",
   "execution_count": 22,
   "metadata": {},
   "outputs": [],
   "source": [
    "import pandas as pd\n",
    "import numpy as np\n",
    "import csv\n",
    "from decimal import Decimal"
   ]
  },
  {
   "attachments": {},
   "cell_type": "markdown",
   "metadata": {},
   "source": [
    "##### Helper Methods for Naive Bayes implementation:"
   ]
  },
  {
   "cell_type": "code",
   "execution_count": 23,
   "metadata": {},
   "outputs": [],
   "source": [
    "# # Gets the set of all words in the dataframe\n",
    "# def get_vocab(df):\n",
    "\n",
    "#     vocab = {word for para in df['abstract'] for word in para.split() }\n",
    "#     return vocab\n",
    "\n",
    "# # Returns the prior probabilities of all the target classes A, B, E and V\n",
    "# def get_prior_probability(df):\n",
    "#     prior_probability = df['target'].value_counts(normalize=True).to_dict()\n",
    "#     for key, value in prior_probability.items():\n",
    "#         prior_probability[key] = Decimal(str(value))\n",
    "#     return prior_probability \n",
    "\n",
    "# # Returns a dictionary containing all the words \n",
    "# def get_conditional_probability(df):\n",
    "#     conditional_probability = dict()\n",
    "    \n",
    "#     for row in df.itertuples(index = 0): \n",
    "     \n",
    "#         line = row.abstract\n",
    "#         target = row.target\n",
    "#         words = [word for word in line.split()]\n",
    "\n",
    "#         for word in words :\n",
    "            \n",
    "#             if word in conditional_probability.keys():\n",
    "#                 if target in conditional_probability[word].keys():\n",
    "#                     conditional_probability[word][target] += 1\n",
    "#                 else:\n",
    "#                     conditional_probability[word][target] = 1\n",
    "#             else:\n",
    "#                 conditional_probability[word] = {\"B\": Decimal(0), \"E\":Decimal(0), \"A\":Decimal(0), \"V\":Decimal(0)}\n",
    "#                 conditional_probability[word][target] += 1\n",
    "#     return conditional_probability\n",
    "\n",
    "# ## Convert conditional probabilities dictionary to a dataframe\n",
    "# def get_conditional_probability_df(conditional_probability):\n",
    "\n",
    "#     data = []\n",
    "#     for word, targets in conditional_probability.items():\n",
    "        \n",
    "#         row = {'word': word}\n",
    "        \n",
    "#         for i, (target, count) in enumerate(targets.items()):\n",
    "#             row [target] = count\n",
    "#         data.append(row)\n",
    "#     word_orrurance_table = pd.DataFrame(data)\n",
    "#     word_orrurance_table.fillna(0, inplace=True)\n",
    "#     return word_orrurance_table"
   ]
  },
  {
   "attachments": {},
   "cell_type": "markdown",
   "metadata": {},
   "source": [
    "##### Simple Naive Bayes Algorithm"
   ]
  },
  {
   "cell_type": "code",
   "execution_count": 24,
   "metadata": {},
   "outputs": [],
   "source": [
    "# def train(df):\n",
    "#     vocab = get_vocab(df)\n",
    "#     prior_probability = get_prior_probability(df)\n",
    "#     conditional_probability_dict = get_conditional_probability(df)\n",
    "#     conditional_probability_df = get_conditional_probability_df(conditional_probability_dict)\n",
    "#     return vocab, prior_probability, conditional_probability_dict,conditional_probability_df\n",
    "\n",
    "# def Naive_Bayes(vocab, prior_probability, conditional_probability_dict,conditional_probability_df,testing):\n",
    "#     predictions = []\n",
    "#     row_nm = 0\n",
    "#     for row in testing.itertuples(index = 0):\n",
    "#         row_nm += 1\n",
    "#         line = row.abstract\n",
    "#         prediction = predict(vocab,prior_probability,conditional_probability_dict,conditional_probability_df,line)\n",
    "#         predictions.append(prediction)\n",
    "#     return predictions\n",
    "# def predict(vocab,prior_probability,conditional_probability_dict,conditional_probability_df,line):\n",
    "#     words = line.split()\n",
    "    \n",
    "#     prob_B = prior_probability['B']\n",
    "#     prob_E = prior_probability['E']\n",
    "#     prob_A = prior_probability['A']\n",
    "#     prob_V = prior_probability['V']\n",
    "\n",
    "#     for word in words:\n",
    "#         if word in vocab:\n",
    "#             prob_B *= conditional_probability_dict[word]['B'] \n",
    "#             prob_A *= conditional_probability_dict[word]['A'] \n",
    "#             prob_V *= conditional_probability_dict[word]['V'] \n",
    "#             prob_E *= conditional_probability_dict[word]['E'] \n",
    "    \n",
    "#     max_prob = max(prob_B, prob_A, prob_V, prob_E)\n",
    "#     if max_prob == prob_E:\n",
    "#         return 'E'\n",
    "#     elif max_prob == prob_B:\n",
    "#         return 'B'\n",
    "#     elif max_prob == prob_A:\n",
    "#         return 'A'\n",
    "#     elif max_prob == prob_V:\n",
    "#         return 'V'\n",
    "#     else:\n",
    "#         return 'E'\n",
    "\n"
   ]
  },
  {
   "attachments": {},
   "cell_type": "markdown",
   "metadata": {},
   "source": [
    "#### Training And Validation Set"
   ]
  },
  {
   "cell_type": "code",
   "execution_count": 25,
   "metadata": {},
   "outputs": [
    {
     "name": "stdout",
     "output_type": "stream",
     "text": [
      "['E', 'B', 'E', 'E', 'E', 'E', 'E', 'E', 'B', 'E', 'B', 'E', 'E', 'E', 'E', 'E', 'E', 'E', 'B', 'E', 'B', 'E', 'E', 'E', 'B', 'E', 'B', 'E', 'E', 'E', 'E', 'E', 'E', 'B', 'B', 'E', 'E', 'E', 'B', 'B', 'E', 'E', 'B', 'E', 'B', 'E', 'B', 'E', 'E', 'B', 'E', 'E', 'E', 'B', 'E', 'B', 'E', 'E', 'E', 'B', 'E', 'E', 'B', 'E', 'E', 'B', 'E', 'E', 'E', 'B', 'E', 'B', 'E', 'E', 'E', 'E', 'E', 'B', 'E', 'E', 'B', 'E', 'E', 'E', 'E', 'B', 'E', 'B', 'B', 'E', 'B', 'B', 'E', 'E', 'E', 'E', 'B', 'B', 'E', 'B', 'B', 'B', 'E', 'E', 'B', 'E', 'E', 'E', 'E', 'B', 'B', 'A', 'B', 'E', 'E', 'E', 'E', 'E', 'E', 'E', 'E', 'E', 'B', 'B', 'E', 'E', 'B', 'B', 'E', 'E', 'B', 'E', 'B', 'E', 'E', 'E', 'B', 'B', 'E', 'E', 'E', 'B', 'B', 'E', 'E', 'E', 'E', 'E', 'E', 'E', 'B', 'E', 'B', 'E', 'E', 'E', 'A', 'E', 'B', 'E', 'B', 'E', 'B', 'E', 'E', 'E', 'E', 'E', 'E', 'E', 'B', 'B', 'E', 'E', 'E', 'E', 'E', 'E', 'E', 'E', 'B', 'A', 'B', 'E', 'B', 'B', 'E', 'B', 'B', 'E', 'E', 'E', 'B', 'E', 'B', 'E', 'E', 'B', 'B', 'E', 'E', 'B', 'E', 'B', 'B', 'E', 'E', 'B', 'E', 'E', 'B', 'B', 'E', 'E', 'E', 'B', 'E', 'E', 'E', 'E', 'E', 'B', 'E', 'E', 'B', 'E', 'E', 'B', 'E', 'E', 'B', 'B', 'E', 'E', 'B', 'A', 'E', 'E', 'E', 'E', 'E', 'E', 'E', 'E', 'B', 'E', 'E', 'E', 'B', 'E', 'B', 'E', 'E', 'E', 'E', 'E', 'E', 'B', 'E', 'E', 'E', 'B', 'E', 'E', 'E', 'E', 'B', 'B', 'E', 'E', 'E', 'B', 'B', 'E', 'E', 'E', 'E', 'E', 'E', 'E', 'E', 'E', 'E', 'E', 'E', 'E', 'E', 'E', 'B', 'E', 'A', 'E', 'E', 'E', 'B', 'E', 'E', 'B', 'E', 'E', 'E', 'E', 'E', 'E', 'E', 'B', 'B', 'E', 'B', 'E', 'E', 'B', 'B', 'B', 'E', 'E', 'E', 'E', 'B', 'B', 'E', 'B', 'B', 'E', 'A', 'E', 'E', 'B', 'E', 'E', 'E', 'E', 'E', 'B', 'E', 'E', 'E', 'E', 'E', 'E', 'E', 'E', 'A', 'E', 'E', 'E', 'B', 'B', 'B', 'E', 'E', 'E', 'B', 'B', 'E', 'E', 'E', 'E', 'E', 'B', 'E', 'E', 'E', 'E', 'E', 'B', 'E', 'E', 'B', 'E', 'E', 'E', 'E', 'E', 'B', 'B', 'E', 'E', 'E', 'E', 'E', 'B', 'B', 'E', 'B', 'B', 'E', 'E', 'E', 'E', 'E', 'A', 'E', 'E', 'B', 'E', 'E', 'E', 'E', 'E', 'E', 'E', 'E', 'E', 'B', 'B', 'B', 'E', 'E', 'E', 'E', 'E', 'E', 'B', 'B', 'A', 'E', 'E', 'E', 'B', 'B', 'E', 'E', 'B', 'E', 'E', 'B', 'E', 'B', 'E', 'E', 'E', 'B', 'E', 'E', 'B', 'E', 'B', 'E', 'E', 'B', 'E', 'E', 'E', 'E', 'E', 'B', 'E', 'B', 'A', 'E', 'B', 'B', 'E', 'E', 'E', 'B', 'B', 'E', 'E', 'E', 'B', 'E', 'E', 'E', 'E', 'B', 'E', 'E', 'E', 'E', 'E', 'E', 'E', 'E', 'E', 'E', 'E', 'B', 'B', 'B', 'E', 'E', 'E', 'E', 'E', 'E', 'E', 'E', 'B', 'E', 'E', 'E', 'E', 'E', 'E', 'E', 'E', 'E', 'B', 'B', 'E', 'E', 'E', 'E', 'B', 'E', 'E', 'E', 'E', 'E', 'E', 'E', 'E', 'B', 'E', 'E', 'B', 'E', 'B', 'E', 'B', 'A', 'E', 'B', 'E', 'B', 'E', 'B', 'E', 'E', 'E', 'E', 'E', 'E', 'B', 'E', 'E', 'E', 'E', 'E', 'E', 'E', 'E', 'E', 'E', 'E', 'E', 'B', 'E', 'E', 'E', 'E', 'B', 'B', 'B', 'E', 'E', 'E', 'E', 'B', 'E', 'B', 'E', 'E', 'E', 'B', 'B', 'B', 'E', 'E', 'E', 'E', 'E', 'E', 'B', 'E', 'E', 'E', 'E', 'B', 'E', 'E', 'E', 'E', 'E', 'E', 'E', 'B', 'B', 'B', 'E', 'E', 'E', 'E', 'E', 'E', 'E', 'A', 'B', 'B', 'B', 'B', 'E', 'B', 'E', 'E', 'B', 'E', 'E', 'B', 'B', 'E', 'E', 'B', 'E', 'E', 'E', 'B', 'E', 'B', 'E', 'E', 'B', 'A', 'B', 'E', 'E', 'E', 'E', 'E', 'E', 'B', 'E', 'E', 'E', 'E', 'E', 'E', 'E', 'E', 'B', 'E', 'E', 'E', 'E', 'E', 'B', 'E', 'B', 'B', 'E', 'E', 'B', 'E', 'E', 'B', 'E', 'E', 'B', 'E', 'E', 'E', 'E', 'B', 'B', 'E', 'B', 'E', 'E', 'E', 'B', 'E', 'E', 'E', 'B', 'E', 'E', 'E', 'E', 'B', 'E', 'B', 'B', 'B', 'E', 'B', 'E', 'E', 'E', 'E', 'E', 'A', 'E', 'E', 'E', 'B', 'E', 'E', 'E', 'B', 'B', 'B', 'B', 'B', 'E', 'B', 'E', 'E', 'B', 'E', 'E', 'B', 'E', 'B', 'B', 'E', 'E', 'E', 'E', 'E', 'E', 'E', 'E', 'B', 'B', 'E', 'E', 'E', 'E', 'E', 'E', 'E', 'B', 'E', 'E', 'E', 'B', 'B', 'E', 'B', 'B', 'E', 'E', 'B', 'E', 'B', 'B', 'E', 'E', 'E', 'B', 'E', 'E', 'E', 'B', 'E', 'E', 'B', 'E', 'B', 'E', 'B', 'E', 'E', 'E', 'B', 'B', 'E', 'B', 'E', 'E', 'B', 'E', 'B', 'E', 'E', 'E', 'B', 'E', 'E', 'E', 'E', 'E', 'E', 'E', 'B', 'B', 'E', 'E', 'A', 'E', 'E', 'E', 'B', 'E', 'E', 'B', 'B', 'E', 'B', 'E', 'E', 'E', 'E', 'B', 'A', 'E', 'E', 'E', 'E', 'E', 'E', 'E', 'E', 'B', 'B', 'E', 'B', 'E', 'E', 'A', 'E', 'E', 'B', 'B', 'E', 'B', 'E', 'B', 'E', 'E', 'E', 'E', 'B', 'E', 'B', 'E', 'E', 'B', 'E', 'E', 'B', 'E', 'E', 'E', 'B', 'E', 'E', 'B', 'E', 'B', 'E', 'E', 'E', 'E', 'E', 'B', 'E', 'B', 'E', 'B', 'E', 'E', 'E', 'E', 'B', 'E', 'E', 'B', 'E', 'E', 'E', 'E', 'B', 'E', 'E', 'B', 'E', 'E', 'E', 'B', 'E', 'E', 'E', 'E', 'E', 'E', 'E', 'E', 'E', 'B', 'B', 'E', 'E', 'B', 'E', 'E', 'E', 'E', 'E', 'E', 'E', 'E', 'E', 'E', 'E', 'E', 'B', 'E', 'B', 'E', 'E', 'E', 'E', 'E', 'E', 'E', 'E', 'E', 'B', 'B', 'B', 'E', 'E', 'B', 'B', 'E', 'E', 'E', 'B', 'E', 'B', 'E', 'B', 'E', 'E', 'E', 'E', 'B', 'E', 'E', 'E', 'E', 'E', 'E', 'E', 'E', 'B', 'E', 'B', 'E', 'B', 'E', 'E', 'B', 'E', 'E', 'B', 'B', 'E', 'E', 'E', 'E', 'E', 'B', 'E', 'B', 'E', 'E', 'B', 'E', 'E', 'B', 'E', 'E', 'E', 'E', 'B', 'E', 'B', 'B', 'E', 'E', 'B', 'E', 'E', 'E', 'E', 'E', 'E', 'E', 'E', 'E', 'E', 'E', 'E', 'E', 'E', 'E', 'B', 'B', 'E', 'E', 'E', 'E', 'E', 'B', 'E', 'E', 'E', 'B', 'E', 'E', 'E', 'E', 'B', 'E', 'E', 'E', 'B', 'B', 'A', 'B', 'E', 'E', 'E', 'B', 'B', 'B', 'B', 'E', 'B', 'E', 'E', 'E', 'B', 'E', 'A', 'B', 'B', 'B', 'E', 'E', 'E', 'E', 'E', 'B', 'E', 'E', 'B', 'B', 'E', 'B', 'E', 'E', 'E', 'E', 'E', 'E', 'E', 'E', 'E', 'E', 'E', 'E', 'E', 'E', 'B', 'E', 'E', 'E', 'E', 'E', 'E', 'B', 'B', 'B', 'E', 'B', 'E', 'E', 'E', 'E', 'E', 'B', 'B', 'E', 'B', 'B', 'E', 'E', 'E', 'E', 'E', 'E', 'E', 'E', 'E', 'E', 'E', 'B', 'E', 'E', 'E', 'B', 'E', 'E', 'E', 'E', 'E', 'E', 'E', 'E', 'E', 'B', 'E', 'B', 'E', 'B', 'E', 'E', 'E', 'E', 'B', 'B', 'E', 'A', 'V', 'E', 'E', 'E', 'E', 'E', 'E', 'E', 'E', 'E', 'B', 'E', 'E', 'B', 'E', 'E', 'E', 'E', 'E', 'E', 'B', 'B', 'E', 'E', 'E', 'E', 'E', 'E', 'E', 'E', 'E', 'A', 'E', 'B', 'B', 'E', 'B', 'E', 'E', 'E', 'B', 'E', 'E', 'B', 'B', 'E', 'E', 'E', 'A', 'E', 'B', 'E', 'B', 'E', 'E', 'B', 'E', 'B', 'E', 'E', 'E', 'E', 'E', 'E', 'E', 'E', 'B', 'E', 'E', 'E', 'E', 'B']\n",
      "Training acc: 0.8158\n"
     ]
    }
   ],
   "source": [
    "# from sklearn.model_selection import train_test_split\n",
    "\n",
    "# df = pd.read_csv(\"trg.csv\")\n",
    "# df = df.rename({'class':'target'},axis=1)\n",
    "# training, testing = train_test_split(df, test_size=0.3, random_state=42)\n",
    "\n",
    "# vocab, prior_probability, conditional_probability_dict,conditional_probability_df = train(training)\n",
    "# prediction_row = Naive_Bayes(vocab, prior_probability, conditional_probability_dict,conditional_probability_df, testing)\n",
    "# print(prediction_row)\n",
    "# validation_acc = (testing['target'] == prediction_row).mean()\n",
    "# print(f\"Training acc: {validation_acc:.4f}\")"
   ]
  },
  {
   "attachments": {},
   "cell_type": "markdown",
   "metadata": {},
   "source": [
    "##### The standard Naive Bayes impletation yields a validation accuracy of 81.58."
   ]
  },
  {
   "attachments": {},
   "cell_type": "markdown",
   "metadata": {},
   "source": [
    "### Improved Naive Bayes Algorithm\n",
    "\n"
   ]
  },
  {
   "attachments": {},
   "cell_type": "markdown",
   "metadata": {},
   "source": [
    "##### Neccessay Libraries "
   ]
  },
  {
   "cell_type": "code",
   "execution_count": 26,
   "metadata": {},
   "outputs": [],
   "source": [
    "import pandas as pd\n",
    "import numpy as np\n",
    "import csv\n",
    "from decimal import Decimal\n",
    "from nltk.corpus import stopwords\n",
    "from nltk.stem.porter import PorterStemmer\n",
    "\n"
   ]
  },
  {
   "attachments": {},
   "cell_type": "markdown",
   "metadata": {},
   "source": [
    "##### Defining stop words and applying stemming to the stop words"
   ]
  },
  {
   "cell_type": "code",
   "execution_count": 27,
   "metadata": {},
   "outputs": [],
   "source": [
    "stopWords = set(stopwords.words('english'))\n",
    "porter = PorterStemmer()\n",
    "stemmed_stop_words = [porter.stem(word) for word in stopWords]\n",
    "stopWords.update(stemmed_stop_words)\n"
   ]
  },
  {
   "attachments": {},
   "cell_type": "markdown",
   "metadata": {},
   "source": [
    "##### Helper Methods for Improved Naive Bayes implementation:"
   ]
  },
  {
   "cell_type": "code",
   "execution_count": 28,
   "metadata": {},
   "outputs": [],
   "source": [
    "\n",
    "def Improved_get_vocab(df):\n",
    "    # stopWords = set(stopwords.words('english'))\n",
    "    vocab = {word for para in df['abstract'] for word in para.split() if word not in stopWords}\n",
    "    porter = PorterStemmer()\n",
    "\n",
    "    vocab = {porter.stem(word) for para in df['abstract'] for word in para.split() if word not in stopWords}\n",
    "    return vocab\n",
    "\n",
    "def Improved_get_prior_probability(df):\n",
    "    prior_probability = df['target'].value_counts(normalize=True).to_dict()\n",
    "    \n",
    "    for key, value in prior_probability.items():\n",
    "        prior_probability[key] = Decimal(str(value))\n",
    "    return prior_probability \n",
    "\n",
    "def Improved_get_conditional_probability(df,vocab):\n",
    "    conditional_probability = dict()\n",
    "    for row in df.itertuples(index = 0): \n",
    "        line = row.abstract\n",
    "        target = row.target\n",
    "        porter = PorterStemmer()\n",
    "        words = [porter.stem(word) for word in line.split() if word not in stopWords]\n",
    "\n",
    "        for word in words :\n",
    "                        \n",
    "            if word in conditional_probability.keys():\n",
    "                if target in conditional_probability[word].keys():\n",
    "                    conditional_probability[word][target] += 1\n",
    "                else:\n",
    "                    conditional_probability[word][target] = 1\n",
    "            else:\n",
    "                conditional_probability[word] = {\"B\": Decimal(0), \"E\":Decimal(0), \"A\":Decimal(0), \"V\":Decimal(0)}\n",
    "                conditional_probability[word][target] += 1\n",
    "    return conditional_probability\n",
    "\n",
    "def Improved_get_conditional_probability_df(conditional_probability):\n",
    "\n",
    "    data = []\n",
    "    for word, targets in conditional_probability.items():\n",
    "        \n",
    "        row = {'word': word}\n",
    "        \n",
    "        for i, (target, count) in enumerate(targets.items()):\n",
    "            row [target] = count\n",
    "        data.append(row)\n",
    "    word_orrurance_table = pd.DataFrame(data)\n",
    "    word_orrurance_table.fillna(0, inplace=True)\n",
    "    return word_orrurance_table\n",
    "\n"
   ]
  },
  {
   "attachments": {},
   "cell_type": "markdown",
   "metadata": {},
   "source": [
    "##### Improved Navie Bayes Algorithm\n"
   ]
  },
  {
   "attachments": {},
   "cell_type": "markdown",
   "metadata": {},
   "source": [
    "##### The improvments are of a result of Laplace Smoothing, the use of stop words and stemming\n"
   ]
  },
  {
   "cell_type": "code",
   "execution_count": 29,
   "metadata": {},
   "outputs": [],
   "source": [
    "\n",
    "\n",
    "\n",
    "def Improved_train(df):\n",
    "    vocab = Improved_get_vocab(df)\n",
    "    prior_probability = Improved_get_prior_probability(df)\n",
    "    conditional_probability_dict = Improved_get_conditional_probability(df,vocab)\n",
    "    conditional_probability_df = Improved_get_conditional_probability_df(conditional_probability_dict)\n",
    "    return vocab, prior_probability, conditional_probability_dict,conditional_probability_df\n",
    "\n",
    "def Improved_Naive_Bayes(vocab, prior_probability, conditional_probability_dict,conditional_probability_df,testing):\n",
    "    predictions = []\n",
    "    row_nm = 0\n",
    "    for row in testing.itertuples(index = 0):\n",
    "        row_nm += 1\n",
    "        line = row.abstract\n",
    "        prediction = Improved_predict(vocab,prior_probability,conditional_probability_dict,conditional_probability_df,line)\n",
    "        predictions.append(prediction)\n",
    "    return predictions\n",
    "\n",
    "def Improved_predict(vocab,prior_probability,conditional_probability_dict,conditional_probability_df,line):\n",
    "    words = line.split()\n",
    "    porter = PorterStemmer()\n",
    "    words = [ porter.stem(word) for word in words if word not in stopWords]\n",
    "    prob_B = prior_probability['B'].ln()\n",
    "    prob_E = prior_probability['E'].ln()\n",
    "    prob_A = prior_probability['A'].ln()\n",
    "    prob_V = prior_probability['V'].ln()\n",
    "\n",
    "    total_B = conditional_probability_df['B'].sum()\n",
    "    total_E = conditional_probability_df['E'].sum()\n",
    "    total_A = conditional_probability_df['A'].sum()\n",
    "    total_V = conditional_probability_df['V'].sum()\n",
    "    for word in words:\n",
    "        if word in vocab:\n",
    "            prob_B += (conditional_probability_dict[word]['B'] + 1).ln() - (Decimal(total_B +  len(vocab))).ln()\n",
    "            prob_A += (conditional_probability_dict[word]['A'] + 1).ln() - (Decimal(total_A + len(vocab))).ln()\n",
    "            prob_V += (conditional_probability_dict[word]['V'] + 1).ln() - (Decimal(total_V + len(vocab))).ln()\n",
    "            prob_E += (conditional_probability_dict[word]['E'] + 1).ln() - (Decimal(total_E + len(vocab))).ln()\n",
    "    max_prob = max(prob_B, prob_A, prob_V, prob_E)\n",
    "    if max_prob == prob_E:\n",
    "        return 'E'\n",
    "    elif max_prob == prob_B:\n",
    "        return 'B'\n",
    "    elif max_prob == prob_A:\n",
    "        return 'A'\n",
    "    elif max_prob == prob_V:\n",
    "        return 'V'\n",
    "    else:\n",
    "        return 'E'\n",
    "        \n",
    "   "
   ]
  },
  {
   "cell_type": "code",
   "execution_count": 38,
   "metadata": {},
   "outputs": [
    {
     "ename": "KeyboardInterrupt",
     "evalue": "",
     "output_type": "error",
     "traceback": [
      "\u001b[1;31m---------------------------------------------------------------------------\u001b[0m",
      "\u001b[1;31mKeyboardInterrupt\u001b[0m                         Traceback (most recent call last)",
      "Cell \u001b[1;32mIn[38], line 15\u001b[0m\n\u001b[0;32m     13\u001b[0m training, testing \u001b[39m=\u001b[39m train_test_split(df_resampled, test_size\u001b[39m=\u001b[39m\u001b[39m0.3\u001b[39m, random_state\u001b[39m=\u001b[39m\u001b[39m42\u001b[39m)\n\u001b[0;32m     14\u001b[0m vocab, prior_probability, conditional_probability_dict,conditional_probability_df \u001b[39m=\u001b[39m Improved_train(training)\n\u001b[1;32m---> 15\u001b[0m prediction_row \u001b[39m=\u001b[39m Improved_Naive_Bayes(vocab, prior_probability, conditional_probability_dict,conditional_probability_df, testing)\n\u001b[0;32m     16\u001b[0m \u001b[39mprint\u001b[39m(prediction_row)\n\u001b[0;32m     17\u001b[0m validation_acc \u001b[39m=\u001b[39m (testing[\u001b[39m'\u001b[39m\u001b[39mtarget\u001b[39m\u001b[39m'\u001b[39m] \u001b[39m==\u001b[39m prediction_row)\u001b[39m.\u001b[39mmean()\n",
      "Cell \u001b[1;32mIn[29], line 14\u001b[0m, in \u001b[0;36mImproved_Naive_Bayes\u001b[1;34m(vocab, prior_probability, conditional_probability_dict, conditional_probability_df, testing)\u001b[0m\n\u001b[0;32m     12\u001b[0m     row_nm \u001b[39m+\u001b[39m\u001b[39m=\u001b[39m \u001b[39m1\u001b[39m\n\u001b[0;32m     13\u001b[0m     line \u001b[39m=\u001b[39m row\u001b[39m.\u001b[39mabstract\n\u001b[1;32m---> 14\u001b[0m     prediction \u001b[39m=\u001b[39m Improved_predict(vocab,prior_probability,conditional_probability_dict,conditional_probability_df,line)\n\u001b[0;32m     15\u001b[0m     predictions\u001b[39m.\u001b[39mappend(prediction)\n\u001b[0;32m     16\u001b[0m \u001b[39mreturn\u001b[39;00m predictions\n",
      "Cell \u001b[1;32mIn[29], line 36\u001b[0m, in \u001b[0;36mImproved_predict\u001b[1;34m(vocab, prior_probability, conditional_probability_dict, conditional_probability_df, line)\u001b[0m\n\u001b[0;32m     34\u001b[0m         prob_A \u001b[39m+\u001b[39m\u001b[39m=\u001b[39m (conditional_probability_dict[word][\u001b[39m'\u001b[39m\u001b[39mA\u001b[39m\u001b[39m'\u001b[39m] \u001b[39m+\u001b[39m \u001b[39m1\u001b[39m)\u001b[39m.\u001b[39mln() \u001b[39m-\u001b[39m (Decimal(total_A \u001b[39m+\u001b[39m \u001b[39mlen\u001b[39m(vocab)))\u001b[39m.\u001b[39mln()\n\u001b[0;32m     35\u001b[0m         prob_V \u001b[39m+\u001b[39m\u001b[39m=\u001b[39m (conditional_probability_dict[word][\u001b[39m'\u001b[39m\u001b[39mV\u001b[39m\u001b[39m'\u001b[39m] \u001b[39m+\u001b[39m \u001b[39m1\u001b[39m)\u001b[39m.\u001b[39mln() \u001b[39m-\u001b[39m (Decimal(total_V \u001b[39m+\u001b[39m \u001b[39mlen\u001b[39m(vocab)))\u001b[39m.\u001b[39mln()\n\u001b[1;32m---> 36\u001b[0m         prob_E \u001b[39m+\u001b[39m\u001b[39m=\u001b[39m (conditional_probability_dict[word][\u001b[39m'\u001b[39;49m\u001b[39mE\u001b[39;49m\u001b[39m'\u001b[39;49m] \u001b[39m+\u001b[39;49m \u001b[39m1\u001b[39;49m)\u001b[39m.\u001b[39;49mln() \u001b[39m-\u001b[39m (Decimal(total_E \u001b[39m+\u001b[39m \u001b[39mlen\u001b[39m(vocab)))\u001b[39m.\u001b[39mln()\n\u001b[0;32m     37\u001b[0m max_prob \u001b[39m=\u001b[39m \u001b[39mmax\u001b[39m(prob_B, prob_A, prob_V, prob_E)\n\u001b[0;32m     38\u001b[0m \u001b[39mif\u001b[39;00m max_prob \u001b[39m==\u001b[39m prob_E:\n",
      "\u001b[1;31mKeyboardInterrupt\u001b[0m: "
     ]
    }
   ],
   "source": [
    "from sklearn.model_selection import train_test_split\n",
    "from imblearn.over_sampling import RandomUnderSampler   \n",
    "\n",
    "df = pd.read_csv(\"trg.csv\")\n",
    "df = df.rename({'class':'target'},axis=1)\n",
    "X = df.drop('target', axis=1)\n",
    "y = df['target']\n",
    "oversampler = RandomOverSampler(random_state=42)\n",
    "X_resampled, y_resampled = oversampler.fit_resample(X, y)\n",
    "df_resampled = pd.concat([X_resampled, y_resampled], axis=1)\n",
    "df_resampled = df_resampled.sample(frac=1, random_state=42)\n",
    "\n",
    "training, testing = train_test_split(df_resampled, test_size=0.3, random_state=42)\n",
    "vocab, prior_probability, conditional_probability_dict,conditional_probability_df = Improved_train(training)\n",
    "prediction_row = Improved_Naive_Bayes(vocab, prior_probability, conditional_probability_dict,conditional_probability_df, testing)\n",
    "print(prediction_row)\n",
    "validation_acc = (testing['target'] == prediction_row).mean()\n",
    "print(f\"Training acc: {validation_acc:.4f}\")"
   ]
  },
  {
   "attachments": {},
   "cell_type": "markdown",
   "metadata": {},
   "source": [
    "##### The Improved Naive Bayes impletation yields a validation accuracy of 94.67%"
   ]
  }
 ],
 "metadata": {
  "kernelspec": {
   "display_name": "Python 3",
   "language": "python",
   "name": "python3"
  },
  "language_info": {
   "codemirror_mode": {
    "name": "ipython",
    "version": 3
   },
   "file_extension": ".py",
   "mimetype": "text/x-python",
   "name": "python",
   "nbconvert_exporter": "python",
   "pygments_lexer": "ipython3",
   "version": "3.10.11"
  },
  "orig_nbformat": 4
 },
 "nbformat": 4,
 "nbformat_minor": 2
}
