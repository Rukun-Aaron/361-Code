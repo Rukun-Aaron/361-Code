{
 "cells": [
  {
   "attachments": {},
   "cell_type": "markdown",
   "metadata": {},
   "source": [
    "# Assignment 2 Naive Bayes"
   ]
  },
  {
   "attachments": {},
   "cell_type": "markdown",
   "metadata": {},
   "source": [
    "## Report Section"
   ]
  },
  {
   "attachments": {},
   "cell_type": "markdown",
   "metadata": {},
   "source": [
    "Q1: Explain and motivate the chosen representation & data preprocessing\n",
    "\n",
    "       Bag of words is a simple method of representing the frequency of words in textual inputs. It keeps a record of all the unique words and their respective frequencies. This data is pivotal to our approach in document classification.  Despite its simplicity, Bag of words enables our model to capture important words and their associated frequencies that is useful for classification. \n",
    "\n",
    "       \n",
    "       <!--I chose to tackle to the problem of document classification based on textual content of scientific papers by using bag of words. I is a simple representation of the frequecy of words in a given class.  -->\n",
    " \n",
    "    "
   ]
  },
  {
   "cell_type": "code",
   "execution_count": 1,
   "metadata": {},
   "outputs": [],
   "source": []
  }
 ],
 "metadata": {
  "kernelspec": {
   "display_name": "Python 3",
   "language": "python",
   "name": "python3"
  },
  "language_info": {
   "codemirror_mode": {
    "name": "ipython",
    "version": 3
   },
   "file_extension": ".py",
   "mimetype": "text/x-python",
   "name": "python",
   "nbconvert_exporter": "python",
   "pygments_lexer": "ipython3",
   "version": "3.10.5"
  },
  "orig_nbformat": 4
 },
 "nbformat": 4,
 "nbformat_minor": 2
}
