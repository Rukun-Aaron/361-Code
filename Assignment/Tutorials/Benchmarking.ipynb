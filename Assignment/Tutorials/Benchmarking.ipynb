{
 "cells": [
  {
   "cell_type": "code",
   "execution_count": 79,
   "metadata": {},
   "outputs": [],
   "source": [
    "import pandas as pd\n",
    "import numpy as np\n",
    "import matplotlib.pyplot as plt\n",
    "from sklearn.datasets import load_breast_cancer\n"
   ]
  },
  {
   "cell_type": "code",
   "execution_count": 80,
   "metadata": {},
   "outputs": [],
   "source": [
    "\n",
    "from sklearn.model_selection import train_test_split\n",
    "\n",
    "\n",
    "data = load_breast_cancer()\n",
    "df = pd.DataFrame(data.data, columns=data.feature_names)\n",
    "df['target'] = data.target\n",
    "X = df.drop('target', axis=1)\n",
    "y = df['target']\n",
    "\n",
    "train_X, test_X, train_y, test_y = train_test_split(X, y, test_size=0.2, random_state=42)"
   ]
  },
  {
   "cell_type": "code",
   "execution_count": 81,
   "metadata": {},
   "outputs": [
    {
     "data": {
      "image/png": "[encoded data removed]",
      "text/plain": [
       "<Figure size 640x480 with 1 Axes>"
      ]
     },
     "metadata": {},
     "output_type": "display_data"
    }
   ],
   "source": [
    "class_count = df['target'].value_counts()\n",
    "plt.bar(class_count.index, class_count.values)\n",
    "plt.show()\n"
   ]
  },
  {
   "attachments": {},
   "cell_type": "markdown",
   "metadata": {},
   "source": [
    "Decision Tree:\n"
   ]
  },
  {
   "cell_type": "code",
   "execution_count": 87,
   "metadata": {},
   "outputs": [
    {
     "name": "stdout",
     "output_type": "stream",
     "text": [
      "Decision Tree Benchmarking:\n",
      "Accuracy:  0.9473684210526315\n",
      "Precision:  0.9488079172289698\n",
      "Recall:  0.9473684210526315\n",
      "F1:  0.9468057045386604\n",
      "AUC-ROC score: 0.9348182115951523\n"
     ]
    }
   ],
   "source": [
    "from sklearn import tree\n",
    "from sklearn.metrics import accuracy_score, precision_score, recall_score, f1_score, roc_auc_score\n",
    "\n",
    "model = tree.DecisionTreeClassifier(criterion=\"entropy\")\n",
    "model.fit(train_X, train_y)\n",
    "y_pred = model.predict(test_X) \n",
    "\n",
    "accuracy = accuracy_score(test_y, y_pred)\n",
    "precision = precision_score(test_y, y_pred, average = \"weighted\")\n",
    "recall = recall_score(test_y, y_pred, average = \"weighted\")\n",
    "f1 = f1_score(test_y, y_pred, average = \"weighted\")\n",
    "auc_roc = roc_auc_score(test_y, y_pred)\n",
    "print(\"Decision Tree Benchmarking:\")\n",
    "print(\"Accuracy: \", accuracy)\n",
    "print(\"Precision: \", precision)\n",
    "print(\"Recall: \", recall)\n",
    "print(\"F1: \", f1)\n",
    "print(\"AUC-ROC score:\", auc_roc)"
   ]
  },
  {
   "attachments": {},
   "cell_type": "markdown",
   "metadata": {},
   "source": [
    "Random Forest:"
   ]
  },
  {
   "cell_type": "code",
   "execution_count": 88,
   "metadata": {},
   "outputs": [
    {
     "name": "stdout",
     "output_type": "stream",
     "text": [
      "Random Forest Benchmarking:\n",
      "Accuracy:  0.9649122807017544\n",
      "Precision:  0.9652053622194477\n",
      "Recall:  0.9649122807017544\n",
      "F1:  0.9647382344750767\n",
      "AUC-ROC score: 0.9580740255486406\n"
     ]
    }
   ],
   "source": [
    "from sklearn.ensemble import RandomForestClassifier\n",
    "from sklearn.metrics import accuracy_score, precision_score, recall_score, f1_score,roc_auc_score\n",
    "\n",
    "model = RandomForestClassifier(n_estimators=100, criterion=\"entropy\")\n",
    "model.fit(train_X, train_y)\n",
    "y_pred = model.predict(test_X)\n",
    "\n",
    "accuracy = accuracy_score(test_y, y_pred)\n",
    "precision = precision_score(test_y, y_pred, average = \"weighted\")\n",
    "recall = recall_score(test_y, y_pred, average = \"weighted\")\n",
    "f1 = f1_score(test_y, y_pred, average = \"weighted\")\n",
    "auc_roc = roc_auc_score(test_y, y_pred)\n",
    "print(\"Random Forest Benchmarking:\")\n",
    "print(\"Accuracy: \", accuracy)\n",
    "print(\"Precision: \", precision)\n",
    "print(\"Recall: \", recall)\n",
    "print(\"F1: \", f1)\n",
    "print(\"AUC-ROC score:\", auc_roc)\n"
   ]
  },
  {
   "attachments": {},
   "cell_type": "markdown",
   "metadata": {},
   "source": [
    "Bagging Classifier:\n"
   ]
  },
  {
   "cell_type": "code",
   "execution_count": 89,
   "metadata": {},
   "outputs": [
    {
     "name": "stdout",
     "output_type": "stream",
     "text": [
      "Bagging Benchmarking:\n",
      "Accuracy:  0.956140350877193\n",
      "Precision:  0.9560881370091896\n",
      "Recall:  0.956140350877193\n",
      "F1:  0.9560357083576897\n",
      "AUC-ROC score: 0.9510317720275139\n"
     ]
    }
   ],
   "source": [
    "from sklearn.ensemble import BaggingClassifier\n",
    "from sklearn.metrics import accuracy_score, precision_score, recall_score, f1_score, roc_auc_score\n",
    "\n",
    "model = BaggingClassifier(n_estimators = 10)\n",
    "model.fit(train_X, train_y)\n",
    "y_pred = model.predict(test_X)\n",
    "\n",
    "accuracy = accuracy_score(test_y, y_pred)\n",
    "precision = precision_score(test_y, y_pred, average = \"weighted\")\n",
    "recall = recall_score(test_y, y_pred, average = \"weighted\")\n",
    "f1 = f1_score(test_y, y_pred, average = \"weighted\")\n",
    "auc_roc = roc_auc_score(test_y, y_pred)\n",
    "\n",
    "print(\"Bagging Benchmarking:\")\n",
    "print(\"Accuracy: \", accuracy)\n",
    "print(\"Precision: \", precision)\n",
    "print(\"Recall: \", recall)\n",
    "print(\"F1: \", f1)\n",
    "print(\"AUC-ROC score:\", auc_roc)"
   ]
  },
  {
   "attachments": {},
   "cell_type": "markdown",
   "metadata": {},
   "source": [
    "AdaBoost Classfier:"
   ]
  },
  {
   "cell_type": "code",
   "execution_count": 90,
   "metadata": {},
   "outputs": [
    {
     "name": "stdout",
     "output_type": "stream",
     "text": [
      "AdaBoost Benchmarking:\n",
      "Accuracy:  0.9736842105263158\n",
      "Precision:  0.9737190197716513\n",
      "Recall:  0.9736842105263158\n",
      "F1:  0.9736214250146138\n",
      "AUC-ROC score: 0.969701932525385\n"
     ]
    }
   ],
   "source": [
    "from sklearn.ensemble import AdaBoostClassifier\n",
    "from sklearn.metrics import accuracy_score, precision_score, recall_score, f1_score, roc_auc_score\n",
    "\n",
    "model = AdaBoostClassifier(n_estimators = 50)\n",
    "model.fit(train_X, train_y)\n",
    "y_pred = model.predict(test_X)\n",
    "\n",
    "accuracy = accuracy_score(test_y, y_pred)\n",
    "precision = precision_score(test_y, y_pred, average = \"weighted\")\n",
    "recall = recall_score(test_y, y_pred, average = \"weighted\")\n",
    "f1 = f1_score(test_y, y_pred, average = \"weighted\")\n",
    "auc_roc = roc_auc_score(test_y, y_pred)\n",
    "\n",
    "print(\"AdaBoost Benchmarking:\")\n",
    "print(\"Accuracy: \", accuracy)\n",
    "print(\"Precision: \", precision)\n",
    "print(\"Recall: \", recall)\n",
    "print(\"F1: \", f1)\n",
    "print(\"AUC-ROC score:\", auc_roc)"
   ]
  },
  {
   "attachments": {},
   "cell_type": "markdown",
   "metadata": {},
   "source": [
    "XG Boost Classifier:"
   ]
  },
  {
   "cell_type": "code",
   "execution_count": 91,
   "metadata": {},
   "outputs": [
    {
     "name": "stdout",
     "output_type": "stream",
     "text": [
      "XGBoost Benchmarking:\n",
      "Accuracy:  0.956140350877193\n",
      "Precision:  0.9560881370091896\n",
      "Recall:  0.956140350877193\n",
      "F1:  0.9560357083576897\n",
      "AUC-ROC score: 0.9510317720275139\n"
     ]
    }
   ],
   "source": [
    "from xgboost import XGBClassifier\n",
    "from sklearn.metrics import accuracy_score, precision_score, recall_score, f1_score, roc_auc_score\n",
    "\n",
    "model = XGBClassifier(n_estimators = 100, objective=\"binary:logistic\")\n",
    "model.fit(train_X, train_y)\n",
    "y_pred = model.predict(test_X)\n",
    "\n",
    "accuracy = accuracy_score(test_y, y_pred)\n",
    "precision = precision_score(test_y, y_pred, average = \"weighted\")\n",
    "recall = recall_score(test_y, y_pred, average = \"weighted\")\n",
    "f1 = f1_score(test_y, y_pred, average = \"weighted\")\n",
    "auc_roc = roc_auc_score(test_y, y_pred)\\\n",
    "    \n",
    "print(\"XGBoost Benchmarking:\")\n",
    "print(\"Accuracy: \", accuracy)\n",
    "print(\"Precision: \", precision)\n",
    "print(\"Recall: \", recall)\n",
    "print(\"F1: \", f1)\n",
    "print(\"AUC-ROC score:\", auc_roc)\n"
   ]
  }
 ],
 "metadata": {
  "kernelspec": {
   "display_name": "Python 3",
   "language": "python",
   "name": "python3"
  },
  "language_info": {
   "codemirror_mode": {
    "name": "ipython",
    "version": 3
   },
   "file_extension": ".py",
   "mimetype": "text/x-python",
   "name": "python",
   "nbconvert_exporter": "python",
   "pygments_lexer": "ipython3",
   "version": "3.10.5"
  },
  "orig_nbformat": 4,
  "vscode": {
   "interpreter": {
    "hash": "369f2c481f4da34e4445cda3fffd2e751bd1c4d706f27375911949ba6bb62e1c"
   }
  }
 },
 "nbformat": 4,
 "nbformat_minor": 2
}
