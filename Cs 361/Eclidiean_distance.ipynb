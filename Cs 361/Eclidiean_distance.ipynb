{
 "cells": [
  {
   "cell_type": "code",
   "execution_count": 14,
   "metadata": {},
   "outputs": [],
   "source": [
    "import numpy as np\n",
    "import math"
   ]
  },
  {
   "cell_type": "code",
   "execution_count": 15,
   "metadata": {},
   "outputs": [],
   "source": [
    "def euclidean_distance(point, center):\n",
    "    squared_distance = sum([(a - b) ** 2 for a, b in zip(point, center)])\n",
    "    distance = math.sqrt(squared_distance)\n",
    "    return distance\n",
    "def compute_distances(points, center):\n",
    "    distances = []\n",
    "    for point in points:\n",
    "        distance = euclidean_distance(point, center)\n",
    "        distances.append(round(distance, 2))\n",
    "    return distances"
   ]
  },
  {
   "cell_type": "code",
   "execution_count": 17,
   "metadata": {},
   "outputs": [
    {
     "name": "stdout",
     "output_type": "stream",
     "text": [
      "[2.36, 3.25, 6.21, 1.75, 4.8, 4.85, 6.41, 1.25]\n",
      "[7.16, 3.72, 2.51, 4.28, 1.95, 0.56, 4.83, 5.46]\n"
     ]
    }
   ],
   "source": [
    "X = np.array([[2, 10], [2, 5], [8, 4], [5, 8], [7, 5], [6, 4], [1, 2], [4, 9]])\n",
    "print(compute_distances(X,(3.25,8)))\n",
    "print(compute_distances(X,(5.5,3.75)))"
   ]
  }
 ],
 "metadata": {
  "kernelspec": {
   "display_name": "Python 3",
   "language": "python",
   "name": "python3"
  },
  "language_info": {
   "codemirror_mode": {
    "name": "ipython",
    "version": 3
   },
   "file_extension": ".py",
   "mimetype": "text/x-python",
   "name": "python",
   "nbconvert_exporter": "python",
   "pygments_lexer": "ipython3",
   "version": "3.10.5"
  },
  "orig_nbformat": 4
 },
 "nbformat": 4,
 "nbformat_minor": 2
}
